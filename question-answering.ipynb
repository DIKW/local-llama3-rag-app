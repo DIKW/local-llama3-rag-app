{
 "cells": [
  {
   "cell_type": "markdown",
   "metadata": {},
   "source": [
    "### Load Documents"
   ]
  },
  {
   "cell_type": "code",
   "execution_count": 6,
   "metadata": {},
   "outputs": [],
   "source": [
    "from langchain.document_loaders import PyPDFLoader"
   ]
  },
  {
   "cell_type": "code",
   "execution_count": 7,
   "metadata": {},
   "outputs": [],
   "source": [
    "# example wiki page on elephants\n",
    "loader = PyPDFLoader('./data/Elephant-Wikipedia.pdf')\n",
    "pages = loader.load()"
   ]
  },
  {
   "cell_type": "markdown",
   "metadata": {},
   "source": [
    "### Split Documents\n"
   ]
  },
  {
   "cell_type": "code",
   "execution_count": 12,
   "metadata": {},
   "outputs": [],
   "source": [
    "from langchain.text_splitter import RecursiveCharacterTextSplitter"
   ]
  },
  {
   "cell_type": "code",
   "execution_count": 9,
   "metadata": {},
   "outputs": [],
   "source": [
    "# define the text splitter\n",
    "r_splitter = RecursiveCharacterTextSplitter(\n",
    "    chunk_size=1500,\n",
    "    chunk_overlap=200, \n",
    "    separators=[\"\\n\\n\", \"\\n\", \" \", \"\"]\n",
    ")"
   ]
  },
  {
   "cell_type": "code",
   "execution_count": 10,
   "metadata": {},
   "outputs": [],
   "source": [
    "# Create our splits from the PDF\n",
    "docs = r_splitter.split_documents(pages)"
   ]
  },
  {
   "cell_type": "code",
   "execution_count": 2,
   "metadata": {},
   "outputs": [
    {
     "data": {
      "text/plain": [
       "('free format', 'toeslagen_affaire', 'wiki_elephants')"
      ]
     },
     "execution_count": 2,
     "metadata": {},
     "output_type": "execute_result"
    }
   ],
   "source": [
    "import os\n",
    "\n",
    "def get_contexts() -> tuple:\n",
    "    \"\"\"\n",
    "    Returns the contexts available in the system.\n",
    "\n",
    "    :return: A tuple containing the contexts.\n",
    "    \"\"\"\n",
    "    # we start with a default \"free format\" context plus we add  all contexts available in the context folder\n",
    "    contexts = [\"free format\"]\n",
    "    # get all sub directory names of the directotry contexts\n",
    "    context_folders = os.listdir(\"./contexts\")\n",
    "    # add all sub directory names to the contexts list\n",
    "    contexts.extend(context_folders)\n",
    "\n",
    "    return tuple(contexts)\n",
    "\n",
    "get_contexts()\n"
   ]
  },
  {
   "cell_type": "markdown",
   "metadata": {},
   "source": [
    "### Create Embeddings & Vectorstore"
   ]
  },
  {
   "cell_type": "code",
   "execution_count": 13,
   "metadata": {},
   "outputs": [
    {
     "ename": "NameError",
     "evalue": "name 'docs' is not defined",
     "output_type": "error",
     "traceback": [
      "\u001b[0;31m---------------------------------------------------------------------------\u001b[0m",
      "\u001b[0;31mNameError\u001b[0m                                 Traceback (most recent call last)",
      "Cell \u001b[0;32mIn[13], line 10\u001b[0m\n\u001b[1;32m      7\u001b[0m embeddings \u001b[38;5;241m=\u001b[39m OllamaEmbeddings(base_url\u001b[38;5;241m=\u001b[39m\u001b[38;5;124m\"\u001b[39m\u001b[38;5;124mhttp://pcloud:11434\u001b[39m\u001b[38;5;124m\"\u001b[39m, model\u001b[38;5;241m=\u001b[39m\u001b[38;5;124m\"\u001b[39m\u001b[38;5;124mnomic-embed-text\u001b[39m\u001b[38;5;124m\"\u001b[39m)\n\u001b[1;32m      9\u001b[0m \u001b[38;5;66;03m# Maak een FAISS index aan\u001b[39;00m\n\u001b[0;32m---> 10\u001b[0m faiss_vector_db \u001b[38;5;241m=\u001b[39m FAISS\u001b[38;5;241m.\u001b[39mfrom_documents(documents\u001b[38;5;241m=\u001b[39m\u001b[43mdocs\u001b[49m, embedding\u001b[38;5;241m=\u001b[39membeddings)\n",
      "\u001b[0;31mNameError\u001b[0m: name 'docs' is not defined"
     ]
    }
   ],
   "source": [
    "#from langchain.embeddings.openai import OpenAIEmbeddings\n",
    "#embeddings = OpenAIEmbeddings()\n",
    "\n",
    "from langchain.vectorstores import FAISS \n",
    "\n",
    "from langchain_community.embeddings import OllamaEmbeddings\n",
    "embeddings = OllamaEmbeddings(base_url=\"http://pcloud:11434\", model=\"nomic-embed-text\")\n",
    "\n",
    "# Maak een FAISS index aan\n",
    "faiss_vector_db = FAISS.from_documents(documents=docs, embedding=embeddings)\n"
   ]
  },
  {
   "cell_type": "code",
   "execution_count": 37,
   "metadata": {},
   "outputs": [],
   "source": [
    "# We can test different types of searches (similartiy search, mmr, etc.)\n",
    "question = \"What are the main differences between types of elephants?\"\n",
    "found_docs = faiss_vector_db.similarity_search_with_score(question,k=3, fetch_k=100)\n",
    "# found_docs = qdrant.max_marginal_relevance_search(query, k=2, fetch_k=10)"
   ]
  },
  {
   "cell_type": "code",
   "execution_count": 38,
   "metadata": {},
   "outputs": [
    {
     "data": {
      "text/plain": [
       "[(Document(page_content='Elephants\\nTemporal range:\\nA female African bush elephant inMikumi National Park, T anzaniaScientiﬁc classiﬁcation\\nDomain:Eukaryota\\nKingdom:Animalia\\nPhylum:Chordata\\nClass:Mammalia\\nOrder:Proboscidea\\nSuperfamily:Elephantoidea\\nFamily:Elephantidae\\nGroups included\\n▪ Loxodonta Anonymous, 1827\\n▪ ElephasLinnaeus, 1758\\n▪ †Palaeoloxodon Matsumoto,\\n1925ElephantElephants are  the  largest  living  land  animals.  Three  livingspecies  are  currently  recognised:  the  African  bush  elephant\\n(Loxodonta africana), the African forest elephant (L. cyclotis),\\nand the Asian elephant (Elephas maximus). They are the only\\nsurviving members of the familyElephantidae and the orderProboscidea;  extinct  relatives  include  mammoths  andmastodons.  Distinctive  features  of  elephants  include  a  longproboscis called a trunk, tusks, large ear ﬂaps, pillar-like legs,\\nand  tough  but  sensitive  grey  skin.  The  trunk  is  prehensile,\\nbringing food and water to the mouth and grasping objects.\\nTusks, which are derived from the incisor teeth, serve both as\\nweapons and as tools for moving objects and digging. The large\\near ﬂaps assist in maintaining a constant body temperature as\\nwell as in communication. African elephants have larger ears\\nand concave backs, whereas Asian elephants have smaller ears\\nand convex or level backs.\\nElephants are scattered throughout sub-Saharan Africa, South\\nAsia, and Southeast Asia and are found in diﬀerent habitats,', metadata={'source': './data/Elephant-Wikipedia.pdf', 'page': 0}),\n",
       "  353.40842),\n",
       " (Document(page_content='141. Hart, B. J.; Hart, L. A.; McCory, M.; Sarath, C. R. (2001). \"Cognitive behaviour in\\nAsian elephants: use and modiﬁcation of branches for ﬂy switching\". Animal\\nBehaviour. 62 (5): 839–847. doi:10.1006/anbe.2001.1815  (https://doi.org/10.1006%2Fanbe.2001.1815 ). S2CID\\xa053184282  (https://api.semanticscholar.org/CorpusID:53184282 ).142. McComb, K.; Baker, L.; Moss, C. (2006). \"African elephants show high levels ofinterest in the skulls and ivory of their own species\"  (https://www.ncbi.nlm.nih.gov/pmc/articles/PMC1617198 ). Biology Letters. 2 (1): 26–28. doi:10.1098/rsbl.2005.0400  (https://doi.org/10.1098%2Frsbl.2005.0400 ). PMC\\xa01617198  (https://www.ncbi.nlm.nih.gov/pmc/articles/PMC1617198 ). PMID\\xa017148317  (https://pubmed.ncbi.nlm.nih.gov/17148317 ).143. Douglas-Hamilton, I.; Bhallaa, S.; Wittemyera, G.; Vollratha, F . (2006).\"Behavioural reactions of elephants towards a dying and deceased matriarch\"  (https://web.archive.org/web/20120511045326/http://www.savetheelephants.org/ﬁles/pdf/publications/2006%20Douglas-Hamilton%20et%20al%20Behavioural%20reactions%20of%20elephants%20to%20a%20dying%20matriarch.pdf ) (PDF).', metadata={'source': './data/Elephant-Wikipedia.pdf', 'page': 33}),\n",
       "  359.49802),\n",
       " (Document(page_content='▪ Animal track\\n▪ Desert elephant\\n▪ Elephants\\' graveyard\\n▪ List of individual elephants\\n▪ Motty, captive hybrid of an Asian and African elephant\\n▪ National Elephant Day (Thailand)\\n▪ World Elephant Day\\n1. ἐλέφας (https://www.perseus.tufts.edu/hopper/text?doc=Perseus:text:1999.04.0057:entry=e)le/fas ). Liddell, Henry George; Scott, Robert; A Greek–EnglishLexicon at the Perseus Project\\n2. Harper, D. \"Elephant\"  (http://www.etymonline.com/index.php?term=elephant ).\\nOnline Etymology Dictionary. Archived  (https://web.archive.org/web/20131224141504/http://www.etymonline.com/index.php?term=elephant ) from the original on\\n24 December 2013. Retrieved 25 October 2012.\\n3. Lujan, E. R.; Bernabe, A. \"Ivory and horn production in Mycenaean texts\"  (https://www.academia.edu/2229199 ). Kosmos. Jewellery, Adornment and Textiles in the\\nAegean Bronze Age. Archived  (https://web.archive.org/web/20211020172849/https://www.academia.edu/2229199 ) from the original on 20 October 2021.\\nRetrieved 22 January 2013.\\n4. \"elephant\"  (http://www.palaeolexicon.com/default.aspx?static=12&wid=189 ).\\nPalaeolexicon, Word study tool of ancient languages. Archived  (https://web.archive.org/web/20121204075314/http://www.palaeolexicon.com/default.aspx?static=12&wid=189 ) from the original on 4 December 2012. Retrieved 19 January\\n2013.See also\\nReferencesElephant - Wikipedia https://en.wikipedia.org/wiki/Elephant\\n20 of 39 5/19/24, 14:55', metadata={'source': './data/Elephant-Wikipedia.pdf', 'page': 19}),\n",
       "  365.60657)]"
      ]
     },
     "execution_count": 38,
     "metadata": {},
     "output_type": "execute_result"
    }
   ],
   "source": [
    "found_docs"
   ]
  },
  {
   "cell_type": "code",
   "execution_count": 15,
   "metadata": {},
   "outputs": [],
   "source": [
    "from utilities.rag import get_retriever, get_vector_db\n",
    "# return a retriever\n",
    "retriever = get_retriever('wiki_elephants')\n",
    "db = get_vector_db('wiki_elephants')\n"
   ]
  },
  {
   "cell_type": "code",
   "execution_count": 19,
   "metadata": {},
   "outputs": [
    {
     "data": {
      "text/plain": [
       "[Document(page_content='536. doi:10.1530/jrf.0.0130517  (https://doi.org/10.1530%2Fjrf.0.0130517 ).PMID\\xa06029179  (https://pubmed.ncbi.nlm.nih.gov/6029179 ). Archived  (https://web.archive.org/web/20180720144623/http://www.reproduction-online.org/content/13/3/517.full.pdf ) (PDF) from the original on 20 July 2018. Retrieved 10 July\\n2017.\\n86. Shoshani, p. 80.\\n87. Eltringham, pp. 124–27.Elephant - Wikipedia https://en.wikipedia.org/wiki/Elephant\\n29 of 39 5/19/24, 14:55', metadata={'source': './data/Elephant-Wikipedia.pdf', 'page': 28}),\n",
       " Document(page_content='44–49. Bibcode:1957SciAm.196b..44R  (https://ui.adsabs.harvard.edu/abs/1957SciAm.196b..44R ). doi:10.1038/scientiﬁcamerican0257-44  (https://doi.org/10.1038%2Fscientiﬁcamerican0257-44 ).Elephant - Wikipedia https://en.wikipedia.org/wiki/Elephant\\n33 of 39 5/19/24, 14:55', metadata={'source': './data/Elephant-Wikipedia.pdf', 'page': 32}),\n",
       " Document(page_content='3696. doi:10.1098/rspb.2012.1038  (https://doi.org/10.1098%2Frspb.2012.1038 ).PMC\\xa03415912  (https://www.ncbi.nlm.nih.gov/pmc/articles/PMC3415912 ).PMID\\xa022719030  (https://pubmed.ncbi.nlm.nih.gov/22719030 ).126. Sukumar, pp. 126–29.127. \"Elephant Life Cycle\"  (http://www.elephantsforever.co.za/life-cycle.html ).\\nElephantsForever.co.za. Archived  (https://web.archive.org/web/20140929112616/http://www.elephantsforever.co.za/life-cycle.html ) from the original on 29\\nSeptember 2014. Retrieved 21 June 2014.128. \"Elephant Life Cycle – Adolescence\"  (http://www.elephantsforever.co.za/life-cycle-adolescence.html ). ElephantsForever.co.za. Archived  (https://web.archive.org/web/20140530064627/http://www.elephantsforever.co.za/life-cycle-adolescence.html ) from the original on 30 May 2014. Retrieved 21 June 2014.Elephant - Wikipedia https://en.wikipedia.org/wiki/Elephant\\n32 of 39 5/19/24, 14:55', metadata={'source': './data/Elephant-Wikipedia.pdf', 'page': 31}),\n",
       " Document(page_content='e.T181008073A181022663. Retrieved 25 March 2021.146. Gobush, K. S.; Edwards, C. T. T.; Maisels, F .; Wittemeyer, G.; Balfour, D. & T aylor,\\nR. D. (2021). \"Loxodonta cyclotis \" (https://www.iucnredlist.org/species/181007989/181019888 ). IUCN Red List of Threatened Species. 2021:\\ne.T181007989A181019888. Retrieved 25 March 2021.147. Douglas-Hamilton, pp. 178–82.148. Thouless, C. R.; Dublin, H. T.; Blanc, J. J.; Skinner, D. P.; Daniel, T. E.; T aylor, R. D.;\\nMaisels, F .; Frederick, H. L.; Bouché, P. (2016). \"African Elephant Status Report2016\"  (https://portals.iucn.org/library/sites/library/ﬁles/documents/SSC-OP-060_A.pdf ) (PDF). IUCN African Elephant Database. Archived  (https://web.archive.org/web/20210627110047/https://portals.iucn.org/library/sites/library/ﬁles/documents/SSC-OP-060_A.pdf ) (PDF) from the original on 27 June 2021. Retrieved 5 June', metadata={'source': './data/Elephant-Wikipedia.pdf', 'page': 33}),\n",
       " Document(page_content='January 2022. Retrieved 31 January 2016.162. Lohanan, Roger (February 2001). \"The elephant situation in Thailand and a pleafor co-operation\"  (http://www.fao.org/docrep/005/ad031e/ad031e0r.htm ). FAO.Archived  (https://web.archive.org/web/20160404162525/http://www.fao.org/docrep/005/ad031e/ad031e0r.htm ) from the original on 4 April 2016. Retrieved\\n31 January 2016.163. Smith, pp. 152–54.164. Wylie (2000), pp. 146–48.165. Griﬃn, B. (2004). \"Elephants: From the Sacred to the Mundane\". In Gin Ooi, K.\\n(ed.). Southeast Asia: A Historical Encyclopedia, from Angkor Wat to East Timor.\\nVol.\\xa01. Bloomsbury Academic. pp.\\xa0487–489. ISBN\\xa0978-1-57607-770-2.166. Shoshani, pp. 168–69.167. Tuttle, pp. 184–88.Elephant - Wikipedia https://en.wikipedia.org/wiki/Elephant\\n35 of 39 5/19/24, 14:55', metadata={'source': './data/Elephant-Wikipedia.pdf', 'page': 34})]"
      ]
     },
     "execution_count": 19,
     "metadata": {},
     "output_type": "execute_result"
    }
   ],
   "source": [
    "question=\"how many elephants are there?\"\n",
    "\n",
    "retriever.invoke(question, k=3 )"
   ]
  },
  {
   "cell_type": "code",
   "execution_count": 30,
   "metadata": {},
   "outputs": [],
   "source": [
    "question=\"how many elephants are there?\"\n",
    "\n",
    "semantic_searcher_2 = db.similarity_search_with_score(question,k=3, fetch_k=1000)\n",
    "retriever2 = db.as_retriever(search_type=\"similarity\", search_kwargs={\"k\": 3})"
   ]
  },
  {
   "cell_type": "code",
   "execution_count": 34,
   "metadata": {},
   "outputs": [
    {
     "data": {
      "text/plain": [
       "[Document(page_content='536. doi:10.1530/jrf.0.0130517  (https://doi.org/10.1530%2Fjrf.0.0130517 ).PMID\\xa06029179  (https://pubmed.ncbi.nlm.nih.gov/6029179 ). Archived  (https://web.archive.org/web/20180720144623/http://www.reproduction-online.org/content/13/3/517.full.pdf ) (PDF) from the original on 20 July 2018. Retrieved 10 July\\n2017.\\n86. Shoshani, p. 80.\\n87. Eltringham, pp. 124–27.Elephant - Wikipedia https://en.wikipedia.org/wiki/Elephant\\n29 of 39 5/19/24, 14:55', metadata={'source': './data/Elephant-Wikipedia.pdf', 'page': 28}),\n",
       " Document(page_content='44–49. Bibcode:1957SciAm.196b..44R  (https://ui.adsabs.harvard.edu/abs/1957SciAm.196b..44R ). doi:10.1038/scientiﬁcamerican0257-44  (https://doi.org/10.1038%2Fscientiﬁcamerican0257-44 ).Elephant - Wikipedia https://en.wikipedia.org/wiki/Elephant\\n33 of 39 5/19/24, 14:55', metadata={'source': './data/Elephant-Wikipedia.pdf', 'page': 32}),\n",
       " Document(page_content='3696. doi:10.1098/rspb.2012.1038  (https://doi.org/10.1098%2Frspb.2012.1038 ).PMC\\xa03415912  (https://www.ncbi.nlm.nih.gov/pmc/articles/PMC3415912 ).PMID\\xa022719030  (https://pubmed.ncbi.nlm.nih.gov/22719030 ).126. Sukumar, pp. 126–29.127. \"Elephant Life Cycle\"  (http://www.elephantsforever.co.za/life-cycle.html ).\\nElephantsForever.co.za. Archived  (https://web.archive.org/web/20140929112616/http://www.elephantsforever.co.za/life-cycle.html ) from the original on 29\\nSeptember 2014. Retrieved 21 June 2014.128. \"Elephant Life Cycle – Adolescence\"  (http://www.elephantsforever.co.za/life-cycle-adolescence.html ). ElephantsForever.co.za. Archived  (https://web.archive.org/web/20140530064627/http://www.elephantsforever.co.za/life-cycle-adolescence.html ) from the original on 30 May 2014. Retrieved 21 June 2014.Elephant - Wikipedia https://en.wikipedia.org/wiki/Elephant\\n32 of 39 5/19/24, 14:55', metadata={'source': './data/Elephant-Wikipedia.pdf', 'page': 31})]"
      ]
     },
     "execution_count": 34,
     "metadata": {},
     "output_type": "execute_result"
    }
   ],
   "source": [
    "retriever2.invoke(question, k=3)\n"
   ]
  },
  {
   "cell_type": "code",
   "execution_count": 9,
   "metadata": {},
   "outputs": [
    {
     "data": {
      "text/plain": [
       "'On page 28 from source: ./data/Elephant-Wikipedia.pdf we found the following snippet: 536. doi:10.1530/jrf.0.0130517  (https://doi.org/10.1530%2F ... '"
      ]
     },
     "execution_count": 9,
     "metadata": {},
     "output_type": "execute_result"
    }
   ],
   "source": [
    "f\"On page {results[0][0].metadata['page']} from source: {results[0][0].metadata['source']} we found the following snippet: {results[0][0].page_content[0:59]} ... \""
   ]
  },
  {
   "cell_type": "markdown",
   "metadata": {},
   "source": []
  },
  {
   "cell_type": "markdown",
   "metadata": {},
   "source": [
    "### Set up the LLM "
   ]
  },
  {
   "cell_type": "code",
   "execution_count": 35,
   "metadata": {},
   "outputs": [],
   "source": [
    "##### Use this code to use Ollama with llama2 or mistral models\n",
    "from langchain.chat_models import ChatOllama\n",
    "llm = ChatOllama(base_url=\"http://pcloud:11434\", model=\"llama3\", temperature=0)\n",
    "\n",
    "##### Use this code to connect with OpenAI API\n",
    "#from langchain.chat_models import ChatOpenAI\n",
    "#llm = ChatOpenAI(model_name=\"gpt-3.5-turbo-1106\", temperature=0)"
   ]
  },
  {
   "cell_type": "markdown",
   "metadata": {},
   "source": [
    "**1: RetreivalQA Chain**"
   ]
  },
  {
   "cell_type": "code",
   "execution_count": 16,
   "metadata": {},
   "outputs": [],
   "source": []
  },
  {
   "cell_type": "markdown",
   "metadata": {},
   "source": [
    "**Prompting**"
   ]
  },
  {
   "cell_type": "code",
   "execution_count": 37,
   "metadata": {},
   "outputs": [],
   "source": [
    "from langchain.prompts import PromptTemplate\n",
    "\n",
    "# Build prompt\n",
    "template = \"\"\"Use the following pieces of context to answer the question at the end. \n",
    "If you don't know the answer, just say that you don't know, don't try to make up an answer. \n",
    "Use three sentences maximum. Keep the answer as concise as possible. \n",
    "Always say \"thanks for asking!\" at the end of the answer. \n",
    "{context}\n",
    "Question: {question}\n",
    "Helpful Answer:\"\"\"\n",
    "QA_CHAIN_PROMPT = PromptTemplate.from_template(template)\n",
    "\n"
   ]
  },
  {
   "cell_type": "code",
   "execution_count": 24,
   "metadata": {},
   "outputs": [],
   "source": [
    "from langchain.chains import RetrievalQA\n",
    "\n",
    "# Run chain\n",
    "qa_chain = RetrievalQA.from_chain_type(\n",
    "    llm,\n",
    "    retriever=faiss_vector_db.as_retriever(),\n",
    "    return_source_documents=True,\n",
    "    chain_type_kwargs={\"prompt\": QA_CHAIN_PROMPT}\n",
    ")"
   ]
  },
  {
   "cell_type": "code",
   "execution_count": 32,
   "metadata": {},
   "outputs": [],
   "source": [
    "question = \"What different sub species of elephants are there?\""
   ]
  },
  {
   "cell_type": "code",
   "execution_count": 28,
   "metadata": {},
   "outputs": [],
   "source": [
    "result = qa_chain({\"query\": question})"
   ]
  },
  {
   "cell_type": "code",
   "execution_count": 29,
   "metadata": {},
   "outputs": [
    {
     "data": {
      "text/plain": [
       "\"I think you meant to ask about elephants, not elphenats!\\n\\nAccording to the provided context, it seems that there is a mention of Asian elephants and African savannah elephants in reference 100. This suggests that these two subspecies of elephants are being compared.\\n\\nAdditionally, references 20 and 21 seem to be discussing the paleoneurology of proboscideans (which includes elephants), but they do not specifically mention different subspecies of elephants.\\n\\nIf you're looking for information on elephant subspecies, I can suggest some general information. There are three main species of elephants: African savannah elephant (Loxodonta africana), African forest elephant (Loxodonta cyclotis), and Asian elephant (Elephas maximus). Within these species, there may be various subspecies or regional variations.\\n\\nPlease let me know if you'd like more specific information on elephant subspecies!\""
      ]
     },
     "execution_count": 29,
     "metadata": {},
     "output_type": "execute_result"
    }
   ],
   "source": [
    "result[\"result\"]"
   ]
  },
  {
   "cell_type": "code",
   "execution_count": 30,
   "metadata": {},
   "outputs": [
    {
     "data": {
      "text/plain": [
       "Document(page_content='35. Shoshani, J.; Eisenberg, J. F . (1982). \"Elephas maximus \" (https://web.archive.org/web/20150924121940/http://www.science.smith.edu/msi/pdf/i0076-3519-182-01-0001.pdf ) (PDF). Mammalian Species (182): 1–8. doi:10.2307/3504045  (https://doi.org/10.2307%2F3504045 ). JSTOR\\xa03504045  (https://www.jstor.org/stable/3504045). Archived from the original  (http://www.science.smith.edu/msi/pdf/i0076-3519-182-01-0001.pdf ) (PDF) on 24 September 2015. Retrieved 27 October 2012.\\n36. \"The Largest Land Animals In The World\"  (https://factanimal.com/animal-facts/largest-land-animals-in-the-world/ ). Fact Animal. Retrieved 29 September 2023.\\n37. Shoshani, pp. 68–70.\\n38. Somgrid, C. \"Elephant Anatomy and Biology: Skeletal system\"  (https://web.archive.org/web/20120613191055/http://www.asianelephantresearch.com/about-elephant-anatomy-and-biology-p1.php#skeleton ). Elephant Research and Education\\nCenter, Department of Companion Animal and Wildlife Clinics, Faculty of\\nVeterinary Medicine, Chiang Mai University. Archived from the original  (http://www.asianelephantresearch.com/about-elephant-anatomy-and-biology-p1.php#skeleton) on 13 June 2012. Retrieved 21 September 2012.\\n39. Kingdon, p. 11.\\n40. Mole, Michael A.; Rodrigues Dáraujo, Shaun; Van Aarde, Rudi J.; Mitchell, Duncan;\\nFuller, Andrea (2018). \"Savanna elephants maintain homeothermy under Africanheat\"  (https://link.springer.com/article/10.1007%2Fs00360-018-1170-5 ). Journal', metadata={'source': './data/Elephant-Wikipedia.pdf', 'page': 24})"
      ]
     },
     "execution_count": 30,
     "metadata": {},
     "output_type": "execute_result"
    }
   ],
   "source": [
    "result[\"source_documents\"][0]"
   ]
  },
  {
   "cell_type": "markdown",
   "metadata": {},
   "source": [
    "**Optional: Alternative Chain Types - Map Reduce**"
   ]
  },
  {
   "cell_type": "code",
   "execution_count": 33,
   "metadata": {},
   "outputs": [
    {
     "name": "stderr",
     "output_type": "stream",
     "text": [
      "/home/hugo/git/local-llama3-rag-app/.local_llamma3/lib/python3.10/site-packages/tqdm/auto.py:21: TqdmWarning: IProgress not found. Please update jupyter and ipywidgets. See https://ipywidgets.readthedocs.io/en/stable/user_install.html\n",
      "  from .autonotebook import tqdm as notebook_tqdm\n",
      "None of PyTorch, TensorFlow >= 2.0, or Flax have been found. Models won't be available and only tokenizers, configuration and file/data utilities can be used.\n",
      "/home/hugo/git/local-llama3-rag-app/.local_llamma3/lib/python3.10/site-packages/huggingface_hub/file_download.py:1132: FutureWarning: `resume_download` is deprecated and will be removed in version 1.0.0. Downloads always resume when possible. If you want to force a new download, use `force_download=True`.\n",
      "  warnings.warn(\n",
      "Token indices sequence length is longer than the specified maximum sequence length for this model (1051 > 1024). Running this sequence through the model will result in indexing errors\n"
     ]
    },
    {
     "data": {
      "text/plain": [
       "'According to the provided texts, there are several recognized subspecies of elephants:\\n\\n**African Savanna Elephant (Loxodonta africana)**\\n\\n* **Loxodonta africana kudu**: Found in southern Africa.\\n* **Loxodonta africana oxyodontis**: Found in eastern Africa.\\n\\n**African Forest Elephant (Loxodonta cyclotis)**\\n\\n* **Loxodonta cyclotis cyclotis**: Found in central Africa.\\n* **Loxodonta cyclotis wellsi**: Found in western Africa.\\n\\n**Asian Elephant (Elephas maximus)**\\n\\n* **Elephas maximus indicus**: Found in India and Sri Lanka.\\n* **Elephas maximus maximus**: Found in Southeast Asia.\\n\\nPlease note that taxonomy is constantly evolving, and some sources may group these subspecies differently.'"
      ]
     },
     "execution_count": 33,
     "metadata": {},
     "output_type": "execute_result"
    }
   ],
   "source": [
    "# needs transformers package\n",
    "\n",
    "qa_chain_mr = RetrievalQA.from_chain_type(\n",
    "    llm,\n",
    "    retriever=faiss_vector_db.as_retriever(),\n",
    "    chain_type=\"map_reduce\"\n",
    ")\n",
    "result = qa_chain_mr({\"query\": question})\n",
    "result[\"result\"]"
   ]
  },
  {
   "cell_type": "markdown",
   "metadata": {},
   "source": [
    "**Optional: Alternative Chain Types - Refine**"
   ]
  },
  {
   "cell_type": "code",
   "execution_count": 34,
   "metadata": {},
   "outputs": [
    {
     "data": {
      "text/plain": [
       "\"With this additional context, I can refine my previous answer to provide more comprehensive information about elephant sub- species.\\n\\nThe original answer mentioned three living species of elephants:\\n\\n1. **African Savanna Elephant** (Loxodonta africana)\\n2. **African Forest Elephant** (Loxodonta cyclotis) - previously considered a separate species, but now recognized as a subspecies of the African Savanna Elephant\\n3. **Asian Elephant** (Elephas maximus)\\n\\nHowever, with this new context, I'd like to highlight some additional information:\\n\\n* The International Elephant Foundation provides insights into elephant conservation and research.\\n* The Wikipedia article on Elephants provides information on the taxonomy, evolution, and conservation status of elephants.\\n\\nRegarding elephant sub-species, I'd like to note that:\\n\\n* There are three recognized species of elephants: African Savanna Elephant, African Forest Elephant, and Asian Elephant.\\n* Within these species, there may be subspecies or regional variations. For example:\\n\\t+ The African Forest Elephant is sometimes divided into two subspecies: Loxodonta cyclotis cyclotis (Central African Forest Elephant) and Loxodonta cyclotis wellsi (West African Forest Elephant).\\n\\t+ The Asian Elephant has several subspecies, including E. m. maximus (Indian Elephant), E. m. indicus (Sri Lankan Elephant), and E. m. sumatrensis (Sumatran Elephant).\\n\\nIn summary, the additional context provides more information on elephant conservation and research, as well as insights into their taxonomy and evolution. Therefore, I refine my previous answer to provide a more comprehensive overview of elephant sub-species:\\n\\nThere are three living species of elephants: African Savanna Elephant (Loxodonta africana), African Forest Elephant (Loxodonta cyclotis) - previously considered a separate species, but now recognized as a subspecies of the African Savanna Elephant, and Asian Elephant (Elephas maximus). Within these species, there may be subspecies or regional variations, such as Loxodonta cyclotis cyclotis (Central African Forest Elephant), Loxodonta cyclotis wellsi (West African Forest Elephant), E. m. maximus (Indian Elephant), E. m. indicus (Sri Lankan Elephant), and E. m. sumatrensis (Sumatran Elephant).\""
      ]
     },
     "execution_count": 34,
     "metadata": {},
     "output_type": "execute_result"
    }
   ],
   "source": [
    "qa_chain_r = RetrievalQA.from_chain_type(\n",
    "    llm,\n",
    "    retriever=faiss_vector_db.as_retriever(),\n",
    "    chain_type=\"refine\"\n",
    ")\n",
    "result = qa_chain_r({\"query\": question})\n",
    "result[\"result\"]"
   ]
  },
  {
   "cell_type": "markdown",
   "metadata": {},
   "source": [
    "### Memory"
   ]
  },
  {
   "cell_type": "code",
   "execution_count": 35,
   "metadata": {},
   "outputs": [],
   "source": [
    "from langchain.memory import ConversationBufferMemory\n",
    "memory = ConversationBufferMemory(\n",
    "    memory_key=\"chat_history\",\n",
    "    return_messages=True\n",
    ")"
   ]
  },
  {
   "cell_type": "markdown",
   "metadata": {},
   "source": [
    "### Conversational Retreival Chain (depreciated)"
   ]
  },
  {
   "cell_type": "code",
   "execution_count": 11,
   "metadata": {},
   "outputs": [
    {
     "ename": "NameError",
     "evalue": "name 'faiss_vector_db' is not defined",
     "output_type": "error",
     "traceback": [
      "\u001b[0;31m---------------------------------------------------------------------------\u001b[0m",
      "\u001b[0;31mNameError\u001b[0m                                 Traceback (most recent call last)",
      "Cell \u001b[0;32mIn[11], line 2\u001b[0m\n\u001b[1;32m      1\u001b[0m \u001b[38;5;28;01mfrom\u001b[39;00m \u001b[38;5;21;01mlangchain\u001b[39;00m\u001b[38;5;21;01m.\u001b[39;00m\u001b[38;5;21;01mchains\u001b[39;00m \u001b[38;5;28;01mimport\u001b[39;00m ConversationalRetrievalChain\n\u001b[0;32m----> 2\u001b[0m retriever\u001b[38;5;241m=\u001b[39m\u001b[43mfaiss_vector_db\u001b[49m\u001b[38;5;241m.\u001b[39mas_retriever()\n\u001b[1;32m      3\u001b[0m qa \u001b[38;5;241m=\u001b[39m ConversationalRetrievalChain\u001b[38;5;241m.\u001b[39mfrom_llm(\n\u001b[1;32m      4\u001b[0m     llm,\n\u001b[1;32m      5\u001b[0m     retriever\u001b[38;5;241m=\u001b[39mretriever,\n\u001b[1;32m      6\u001b[0m     memory\u001b[38;5;241m=\u001b[39mmemory\n\u001b[1;32m      7\u001b[0m )\n",
      "\u001b[0;31mNameError\u001b[0m: name 'faiss_vector_db' is not defined"
     ]
    }
   ],
   "source": [
    "from langchain.chains import ConversationalRetrievalChain\n",
    "retriever=faiss_vector_db.as_retriever()\n",
    "qa = ConversationalRetrievalChain.from_llm(\n",
    "    llm,\n",
    "    retriever=retriever,\n",
    "    memory=memory\n",
    ")"
   ]
  },
  {
   "cell_type": "code",
   "execution_count": null,
   "metadata": {},
   "outputs": [],
   "source": []
  },
  {
   "cell_type": "code",
   "execution_count": 38,
   "metadata": {},
   "outputs": [],
   "source": [
    "question = \"What different sub species of elephants are there?\"\n",
    "result = qa({\"question\": question})"
   ]
  },
  {
   "cell_type": "code",
   "execution_count": 40,
   "metadata": {},
   "outputs": [
    {
     "name": "stdout",
     "output_type": "stream",
     "text": [
      "There are three living species of elephant, and several subspecies:\n",
      "\n",
      "1. **African Savanna Elephant** (Loxodonta africana):\n",
      "\t* African Forest Elephant (L. a. forestalis): found in the Congo Basin.\n",
      "\t* African Bush Elephant (L. a. kudu): found in southern Africa.\n",
      "2. **Asian Elephant** (Elephas maximus):\n",
      "\t* Sri Lankan Elephant (E. m. maximus): found only in Sri Lanka.\n",
      "\t* Indian Elephant (E. m. indicus): found in India, Nepal, and parts of Southeast Asia.\n",
      "\t* Sumatran Elephant (E. m. sumatrensis): found only in Sumatra, Indonesia.\n",
      "3. **Desert Elephant** (Loxodonta africana arabica):\n",
      "\t* Also known as the North African Elephant or Arabian Elephant, this subspecies is found in the deserts of North Africa.\n",
      "\n",
      "There are also several extinct subspecies of elephants, including:\n",
      "\n",
      "* **Woolly Mammoth** (Mammuthus primigenius): an Ice Age-era elephant that lived in northern hemisphere.\n",
      "* **Dwarf Elephant** (Elephas minus): a small-bodied elephant that lived on the island of Crete during the Pleistocene epoch.\n",
      "\n",
      "It's worth noting that some taxonomists recognize only two species of elephants: Loxodonta africana (African Elephant) and Elephas maximus (Asian Elephant), with no subspecies. However, most sources accept the three living species and several subspecies as described above.\n"
     ]
    }
   ],
   "source": [
    "print(result['answer'])"
   ]
  },
  {
   "cell_type": "code",
   "execution_count": 42,
   "metadata": {},
   "outputs": [],
   "source": [
    "# Ask a follow-up question\n",
    "question = \"Can you tell me more about the taxonomy of elephants?\"\n",
    "result = qa({\"question\": question})"
   ]
  },
  {
   "cell_type": "code",
   "execution_count": 43,
   "metadata": {},
   "outputs": [
    {
     "name": "stdout",
     "output_type": "stream",
     "text": [
      "The current consensus among taxonomists regarding the classification of elephant species and subspecies is as follows:\n",
      "\n",
      "* There are two main species of elephants:\n",
      "\t+ African Elephant (Loxodonta africana)\n",
      "\t+ Asian Elephant (Elephas maximus)\n",
      "* The African Elephant has three recognized subspecies:\n",
      "\t+ Loxodonta africana africana (Savanna Elephant)\n",
      "\t+ Loxodonta africana kudu (Forest Elephant)\n",
      "\t+ Loxodonta africana oxyodontia (Desert Elephant)\n",
      "* The Asian Elephant has two recognized subspecies:\n",
      "\t+ Elephas maximus maximus (Indian Elephant)\n",
      "\t+ Elephas maximus indicus (Sri Lankan Elephant)\n",
      "\n",
      "It's worth noting that some taxonomists recognize a third species of elephant, the Forest Elephant (Loxodonta cyclotis), which is considered to be a distinct species by some authors. However, this classification is not universally accepted and is still a matter of debate among taxonomists.\n",
      "\n",
      "Additionally, there are several recognized hybrids between African and Asian elephants, such as the Motty (a captive hybrid of an Asian elephant and an African elephant) and other hybrids that have been reported in the wild or in captivity. However, these hybrids are not considered to be distinct species or subspecies.\n",
      "\n",
      "The classification of elephant species and subspecies is constantly being revised based on new research and discoveries, so it's possible that future studies may lead to changes in the current consensus.\n"
     ]
    }
   ],
   "source": [
    "print(result['answer'])"
   ]
  },
  {
   "cell_type": "code",
   "execution_count": 44,
   "metadata": {},
   "outputs": [],
   "source": [
    "# Ask a follow-up question\n",
    "question = \"What are the species that are close relatives to elephants ?\"\n",
    "result = qa({\"question\": question})"
   ]
  },
  {
   "cell_type": "code",
   "execution_count": 45,
   "metadata": {},
   "outputs": [
    {
     "name": "stdout",
     "output_type": "stream",
     "text": [
      "According to the provided context, some of the closest relatives to elephants include:\n",
      "\n",
      "1. Mammoths: These were extinct relatives of elephants.\n",
      "2. Mastodons: Another extinct relative of elephants.\n",
      "\n",
      "These species are part of the order Proboscidea and family Elephantidae, which includes modern elephant species such as African bush elephants (Loxodonta africana), African forest elephants (L. cyclotis), and Asian elephants (Elephas maximus).\n",
      "\n",
      "Additionally, some other mammals that are not directly related to elephants but share similarities with them include:\n",
      "\n",
      "1. Manatees: These aquatic mammals belong to the order Sirenia and are also part of the clade Afrotheria.\n",
      "2. Dugongs: Another aquatic mammal, dugongs are also part of the order Sirenia and clade Afrotheria.\n",
      "\n",
      "These species share some physical characteristics with elephants, such as their large size, herbivorous diet, and aquatic adaptations.\n"
     ]
    }
   ],
   "source": [
    "print(result['answer'])"
   ]
  },
  {
   "cell_type": "markdown",
   "metadata": {},
   "source": [
    "## New RAG stack"
   ]
  },
  {
   "cell_type": "code",
   "execution_count": 38,
   "metadata": {},
   "outputs": [],
   "source": [
    "from langchain.prompts import PromptTemplate\n",
    "\n",
    "# Build prompt\n",
    "template = \"\"\"Use the following pieces of context to answer the question at the end. \n",
    "If you don't know the answer, just say that you don't know, don't try to make up an answer. \n",
    "Use three sentences maximum. Keep the answer as concise as possible. \n",
    "Always say \"thanks for asking!\" at the end of the answer. \n",
    "{context}\n",
    "Question: {question}\n",
    "Helpful Answer:\"\"\"\n",
    "prompt = PromptTemplate.from_template(template)\n",
    "\n"
   ]
  },
  {
   "cell_type": "code",
   "execution_count": 39,
   "metadata": {},
   "outputs": [],
   "source": [
    "from langchain_core.output_parsers import StrOutputParser\n",
    "from langchain_core.runnables import RunnablePassthrough\n",
    "\n",
    "\n",
    "def format_docs(docs):\n",
    "    return \"\\n\\n\".join(doc.page_content for doc in docs)\n",
    "\n",
    "\n",
    "rag_chain = (\n",
    "    {\"context\": retriever | format_docs, \"question\": RunnablePassthrough()}\n",
    "    | prompt\n",
    "    | llm\n",
    "    | StrOutputParser()\n",
    ")"
   ]
  },
  {
   "cell_type": "code",
   "execution_count": 41,
   "metadata": {},
   "outputs": [
    {
     "name": "stdout",
     "output_type": "stream",
     "text": [
      "An elephant is a large mammal that belongs to the family Elephantidae. It is characterized by its distinctive trunk, tusks, and large ears. Elephants are found in various parts of the world, including Africa and Asia. Thanks for asking!"
     ]
    }
   ],
   "source": [
    "for chunk in rag_chain.stream(\"What is an elephant?\"):\n",
    "    print(chunk, end=\"\", flush=True)"
   ]
  }
 ],
 "metadata": {
  "kernelspec": {
   "display_name": "Python 3",
   "language": "python",
   "name": "python3"
  },
  "language_info": {
   "codemirror_mode": {
    "name": "ipython",
    "version": 3
   },
   "file_extension": ".py",
   "mimetype": "text/x-python",
   "name": "python",
   "nbconvert_exporter": "python",
   "pygments_lexer": "ipython3",
   "version": "3.10.12"
  }
 },
 "nbformat": 4,
 "nbformat_minor": 2
}
