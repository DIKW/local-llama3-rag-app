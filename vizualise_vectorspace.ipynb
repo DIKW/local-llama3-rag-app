{
 "cells": [
  {
   "cell_type": "markdown",
   "metadata": {},
   "source": [
    "# UMAP vector space"
   ]
  },
  {
   "cell_type": "code",
   "execution_count": 1,
   "metadata": {},
   "outputs": [],
   "source": [
    "# load FAISS vector data from a file \n",
    "# do a UMAP data reduction and plot the result\n",
    "\n",
    "import numpy as np\n",
    "import matplotlib.pyplot as plt\n",
    "\n",
    "# load the data\n",
    "context = 'wiki_elephants'\n"
   ]
  },
  {
   "cell_type": "code",
   "execution_count": 2,
   "metadata": {},
   "outputs": [],
   "source": [
    "from langchain_community.vectorstores import FAISS\n",
    "from langchain_community.embeddings import OllamaEmbeddings\n",
    "\n",
    "\n",
    "embeddings = OllamaEmbeddings(\n",
    "    base_url=\"http://pcloud:11434\", model=\"nomic-embed-text\"\n",
    ")\n",
    "# path to index\n",
    "path = f\"contexts/{context}\"\n",
    "vector_db = FAISS.load_local(\n",
    "    path, embeddings, allow_dangerous_deserialization=True\n",
    ")\n"
   ]
  },
  {
   "cell_type": "code",
   "execution_count": 3,
   "metadata": {},
   "outputs": [],
   "source": [
    "doc_store = vector_db.docstore"
   ]
  },
  {
   "cell_type": "code",
   "execution_count": 4,
   "metadata": {},
   "outputs": [
    {
     "name": "stdout",
     "output_type": "stream",
     "text": [
      "True\n"
     ]
    }
   ],
   "source": [
    "index = vector_db.index\n",
    "print(index.is_trained)"
   ]
  },
  {
   "cell_type": "code",
   "execution_count": null,
   "metadata": {},
   "outputs": [],
   "source": [
    "# number of documents\n",
    "#print(index.ntotal)\n",
    "# embedding dimension\n",
    "print(index.d)"
   ]
  },
  {
   "cell_type": "code",
   "execution_count": 17,
   "metadata": {},
   "outputs": [],
   "source": [
    "keys = list(doc_store._dict.keys())\n",
    "\n",
    "# len(keys)\n",
    "k = keys[0] "
   ]
  },
  {
   "cell_type": "code",
   "execution_count": 20,
   "metadata": {},
   "outputs": [],
   "source": [
    "data = doc_store.search(k)"
   ]
  },
  {
   "cell_type": "code",
   "execution_count": 28,
   "metadata": {},
   "outputs": [
    {
     "data": {
      "text/plain": [
       "0"
      ]
     },
     "execution_count": 28,
     "metadata": {},
     "output_type": "execute_result"
    }
   ],
   "source": [
    "data.page_content\n",
    "data.metadata\n",
    "data.metadata['source']\n",
    "data.metadata['page']\n"
   ]
  },
  {
   "cell_type": "code",
   "execution_count": 41,
   "metadata": {},
   "outputs": [
    {
     "name": "stdout",
     "output_type": "stream",
     "text": [
      "▪ Carrington, Richard (1958). Elephants: A Short Account of their Natural History,\n",
      "Evolution and Inﬂuence on Mankind. Chatto & Windus. OCLC 911782153  (https://www.worldcat.org/oclc/911782153 ).\n",
      "▪ Nance, Susan (2013). Entertaining Elephants: Animal Agency and the Business\n",
      "of the American Circus. Baltimore, MD: Johns Hopkins University Press.\n",
      "▪ Saxe, John Godfrey (1872). \"The Blindmen and the Elephant\" at Wikisource. The\n",
      "Poems of John Godfrey Saxe.\n",
      "▪ Williams, Heathcote (1989). Sacred Elephant. New York: Harmony Books.ISBN978-0-517-57320-4.\n",
      "▪ International Elephant Foundation  (https://elephantconservation.org )\n",
      "Retrieved from \"https://en.wikipedia.org/w/index.php?title=Elephant&oldid=1224572233\"\n",
      "▪ External linksElephant - Wikipedia https://en.wikipedia.org/wiki/Elephant\n",
      "39 of 39 5/19/24, 14:55\n"
     ]
    }
   ],
   "source": [
    "print(data.page_content)"
   ]
  },
  {
   "cell_type": "code",
   "execution_count": 39,
   "metadata": {},
   "outputs": [
    {
     "name": "stdout",
     "output_type": "stream",
     "text": [
      "hugo\n",
      "koopmans\n"
     ]
    }
   ],
   "source": [
    "print('hugo\\nkoopmans')"
   ]
  },
  {
   "cell_type": "code",
   "execution_count": 44,
   "metadata": {},
   "outputs": [
    {
     "data": {
      "text/html": [
       "<div>\n",
       "<style scoped>\n",
       "    .dataframe tbody tr th:only-of-type {\n",
       "        vertical-align: middle;\n",
       "    }\n",
       "\n",
       "    .dataframe tbody tr th {\n",
       "        vertical-align: top;\n",
       "    }\n",
       "\n",
       "    .dataframe thead th {\n",
       "        text-align: right;\n",
       "    }\n",
       "</style>\n",
       "<table border=\"1\" class=\"dataframe\">\n",
       "  <thead>\n",
       "    <tr style=\"text-align: right;\">\n",
       "      <th></th>\n",
       "      <th>page</th>\n",
       "      <th>source</th>\n",
       "      <th>content</th>\n",
       "    </tr>\n",
       "  </thead>\n",
       "  <tbody>\n",
       "    <tr>\n",
       "      <th>0</th>\n",
       "      <td>0</td>\n",
       "      <td>./data/Elephant-Wikipedia.pdf</td>\n",
       "      <td>Elephants\\nTemporal range: ...</td>\n",
       "    </tr>\n",
       "    <tr>\n",
       "      <th>1</th>\n",
       "      <td>0</td>\n",
       "      <td>./data/Elephant-Wikipedia.pdf</td>\n",
       "      <td>and  tough  but  sensitiv ...</td>\n",
       "    </tr>\n",
       "    <tr>\n",
       "      <th>2</th>\n",
       "      <td>0</td>\n",
       "      <td>./data/Elephant-Wikipedia.pdf</td>\n",
       "      <td>on their environments. El ...</td>\n",
       "    </tr>\n",
       "    <tr>\n",
       "      <th>3</th>\n",
       "      <td>0</td>\n",
       "      <td>./data/Elephant-Wikipedia.pdf</td>\n",
       "      <td>well as reproductive succ ...</td>\n",
       "    </tr>\n",
       "    <tr>\n",
       "      <th>4</th>\n",
       "      <td>1</td>\n",
       "      <td>./data/Elephant-Wikipedia.pdf</td>\n",
       "      <td>Distribution of living el ...</td>\n",
       "    </tr>\n",
       "  </tbody>\n",
       "</table>\n",
       "</div>"
      ],
      "text/plain": [
       "   page                         source                         content\n",
       "0     0  ./data/Elephant-Wikipedia.pdf  Elephants\\nTemporal range: ...\n",
       "1     0  ./data/Elephant-Wikipedia.pdf   and  tough  but  sensitiv ...\n",
       "2     0  ./data/Elephant-Wikipedia.pdf   on their environments. El ...\n",
       "3     0  ./data/Elephant-Wikipedia.pdf   well as reproductive succ ...\n",
       "4     1  ./data/Elephant-Wikipedia.pdf   Distribution of living el ..."
      ]
     },
     "execution_count": 44,
     "metadata": {},
     "output_type": "execute_result"
    }
   ],
   "source": [
    "# create a new dataframe\n",
    "hover_data = pd.DataFrame()\n",
    "\n",
    "# for all k in keys\n",
    "# add document metadata to dataframe\n",
    "for k in keys:\n",
    "    data = doc_store.search(k)\n",
    "    hover_data = hover_data._append(\n",
    "        {\n",
    "            \"page\": data.metadata['page'],\n",
    "            \"source\": data.metadata['source'],\n",
    "            \"content\": data.page_content[0:25]+\" ...\",\n",
    "        },\n",
    "        ignore_index=True,\n",
    "    )\n",
    "\n",
    "# hover_data.head()\n",
    "hover_data.head()\n",
    "\n",
    "\n"
   ]
  },
  {
   "cell_type": "code",
   "execution_count": 5,
   "metadata": {},
   "outputs": [],
   "source": [
    "# facebooks lib directly\n",
    "import faiss\n",
    "# Number of docs added to your index\n",
    "num_docs = index.ntotal\n",
    "# Get the dimension of your embeddings\n",
    "embedding_dimension = index.d\n",
    "\n",
    "embeddings = faiss.rev_swig_ptr(index.get_xb(), num_docs*embedding_dimension).reshape(num_docs, embedding_dimension)\n"
   ]
  },
  {
   "cell_type": "code",
   "execution_count": 6,
   "metadata": {},
   "outputs": [
    {
     "data": {
      "text/plain": [
       "(172, 768)"
      ]
     },
     "execution_count": 6,
     "metadata": {},
     "output_type": "execute_result"
    }
   ],
   "source": [
    "embeddings.shape"
   ]
  },
  {
   "cell_type": "code",
   "execution_count": null,
   "metadata": {},
   "outputs": [],
   "source": [
    "%pip install umap-learn"
   ]
  },
  {
   "cell_type": "code",
   "execution_count": 7,
   "metadata": {},
   "outputs": [
    {
     "name": "stderr",
     "output_type": "stream",
     "text": [
      "/data/git/local-llama3-rag-app/.local_llamma3/lib/python3.12/site-packages/tqdm/auto.py:21: TqdmWarning: IProgress not found. Please update jupyter and ipywidgets. See https://ipywidgets.readthedocs.io/en/stable/user_install.html\n",
      "  from .autonotebook import tqdm as notebook_tqdm\n"
     ]
    }
   ],
   "source": [
    "# plot with umap\n",
    "#import sklearn.datasets\n",
    "import pandas as pd\n",
    "import numpy as np\n",
    "import umap.umap_ as umap\n"
   ]
  },
  {
   "cell_type": "code",
   "execution_count": 14,
   "metadata": {},
   "outputs": [
    {
     "data": {
      "image/png": "[encoded data removed]",
      "text/plain": [
       "<Figure size 1000x1000 with 1 Axes>"
      ]
     },
     "metadata": {},
     "output_type": "display_data"
    }
   ],
   "source": [
    "# we should investigate different settings for the UMAP algorithm\n",
    "# to get a better representation of the data\n",
    "reducer = umap.UMAP(n_neighbors=5, min_dist=0.01, metric='cosine')\n",
    "umap_embedding = reducer.fit_transform(embeddings)\n",
    "\n",
    "# plot the result\n",
    "plt.figure(figsize=(10,10))\n",
    "plt.scatter(umap_embedding[:, 0], umap_embedding[:, 1])\n",
    "plt.gca().set_aspect('equal', 'datalim')\n",
    "\n",
    "plt.title('UMAP projection of the dataset', fontsize=24)\n",
    "\n",
    "plt.show()"
   ]
  },
  {
   "cell_type": "code",
   "execution_count": null,
   "metadata": {},
   "outputs": [],
   "source": [
    "%pip install umap-learn[plot]"
   ]
  },
  {
   "cell_type": "code",
   "execution_count": 11,
   "metadata": {},
   "outputs": [
    {
     "name": "stderr",
     "output_type": "stream",
     "text": [
      "/data/git/local-llama3-rag-app/.local_llamma3/lib/python3.12/site-packages/dask/dataframe/__init__.py:31: FutureWarning: \n",
      "Dask dataframe query planning is disabled because dask-expr is not installed.\n",
      "\n",
      "You can install it with `pip install dask[dataframe]` or `conda install dask`.\n",
      "This will raise in a future version.\n",
      "\n",
      "  warnings.warn(msg, FutureWarning)\n"
     ]
    },
    {
     "data": {
      "text/html": [
       "    <style>\n",
       "        .bk-notebook-logo {\n",
       "            display: block;\n",
       "            width: 20px;\n",
       "            height: 20px;\n",
       "            background-image: url(data:image/png;base64,iVBORw0KGgoAAAANSUhEUgAAABQAAAAUCAYAAACNiR0NAAAABHNCSVQICAgIfAhkiAAAAAlwSFlzAAALEgAACxIB0t1+/AAAABx0RVh0U29mdHdhcmUAQWRvYmUgRmlyZXdvcmtzIENTNui8sowAAAOkSURBVDiNjZRtaJVlGMd/1/08zzln5zjP1LWcU9N0NkN8m2CYjpgQYQXqSs0I84OLIC0hkEKoPtiH3gmKoiJDU7QpLgoLjLIQCpEsNJ1vqUOdO7ppbuec5+V+rj4ctwzd8IIbbi6u+8f1539dt3A78eXC7QizUF7gyV1fD1Yqg4JWz84yffhm0qkFqBogB9rM8tZdtwVsPUhWhGcFJngGeWrPzHm5oaMmkfEg1usvLFyc8jLRqDOMru7AyC8saQr7GG7f5fvDeH7Ej8CM66nIF+8yngt6HWaKh7k49Soy9nXurCi1o3qUbS3zWfrYeQDTB/Qj6kX6Ybhw4B+bOYoLKCC9H3Nu/leUTZ1JdRWkkn2ldcCamzrcf47KKXdAJllSlxAOkRgyHsGC/zRday5Qld9DyoM4/q/rUoy/CXh3jzOu3bHUVZeU+DEn8FInkPBFlu3+nW3Nw0mk6vCDiWg8CeJaxEwuHS3+z5RgY+YBR6V1Z1nxSOfoaPa4LASWxxdNp+VWTk7+4vzaou8v8PN+xo+KY2xsw6une2frhw05CTYOmQvsEhjhWjn0bmXPjpE1+kplmmkP3suftwTubK9Vq22qKmrBhpY4jvd5afdRA3wGjFAgcnTK2s4hY0/GPNIb0nErGMCRxWOOX64Z8RAC4oCXdklmEvcL8o0BfkNK4lUg9HTl+oPlQxdNo3Mg4Nv175e/1LDGzZen30MEjRUtmXSfiTVu1kK8W4txyV6BMKlbgk3lMwYCiusNy9fVfvvwMxv8Ynl6vxoByANLTWplvuj/nF9m2+PDtt1eiHPBr1oIfhCChQMBw6Aw0UulqTKZdfVvfG7VcfIqLG9bcldL/+pdWTLxLUy8Qq38heUIjh4XlzZxzQm19lLFlr8vdQ97rjZVOLf8nclzckbcD4wxXMidpX30sFd37Fv/GtwwhzhxGVAprjbg0gCAEeIgwCZyTV2Z1REEW8O4py0wsjeloKoMr6iCY6dP92H6Vw/oTyICIthibxjm/DfN9lVz8IqtqKYLUXfoKVMVQVVJOElGjrnnUt9T9wbgp8AyYKaGlqingHZU/uG2NTZSVqwHQTWkx9hxjkpWDaCg6Ckj5qebgBVbT3V3NNXMSiWSDdGV3hrtzla7J+duwPOToIg42ChPQOQjspnSlp1V+Gjdged7+8UN5CRAV7a5EdFNwCjEaBR27b3W890TE7g24NAP/mMDXRWrGoFPQI9ls/MWO2dWFAar/xcOIImbbpA3zgAAAABJRU5ErkJggg==);\n",
       "        }\n",
       "    </style>\n",
       "    <div>\n",
       "        <a href=\"https://bokeh.org\" target=\"_blank\" class=\"bk-notebook-logo\"></a>\n",
       "        <span id=\"ce19f367-ac5f-446f-ab8f-c0e77c92145c\">Loading BokehJS ...</span>\n",
       "    </div>\n"
      ]
     },
     "metadata": {},
     "output_type": "display_data"
    },
    {
     "data": {
      "application/javascript": "'use strict';\n(function(root) {\n  function now() {\n    return new Date();\n  }\n\n  const force = true;\n\n  if (typeof root._bokeh_onload_callbacks === \"undefined\" || force === true) {\n    root._bokeh_onload_callbacks = [];\n    root._bokeh_is_loading = undefined;\n  }\n\nconst JS_MIME_TYPE = 'application/javascript';\n  const HTML_MIME_TYPE = 'text/html';\n  const EXEC_MIME_TYPE = 'application/vnd.bokehjs_exec.v0+json';\n  const CLASS_NAME = 'output_bokeh rendered_html';\n\n  /**\n   * Render data to the DOM node\n   */\n  function render(props, node) {\n    const script = document.createElement(\"script\");\n    node.appendChild(script);\n  }\n\n  /**\n   * Handle when an output is cleared or removed\n   */\n  function handleClearOutput(event, handle) {\n    function drop(id) {\n      const view = Bokeh.index.get_by_id(id)\n      if (view != null) {\n        view.model.document.clear()\n        Bokeh.index.delete(view)\n      }\n    }\n\n    const cell = handle.cell;\n\n    const id = cell.output_area._bokeh_element_id;\n    const server_id = cell.output_area._bokeh_server_id;\n\n    // Clean up Bokeh references\n    if (id != null) {\n      drop(id)\n    }\n\n    if (server_id !== undefined) {\n      // Clean up Bokeh references\n      const cmd_clean = \"from bokeh.io.state import curstate; print(curstate().uuid_to_server['\" + server_id + \"'].get_sessions()[0].document.roots[0]._id)\";\n      cell.notebook.kernel.execute(cmd_clean, {\n        iopub: {\n          output: function(msg) {\n            const id = msg.content.text.trim()\n            drop(id)\n          }\n        }\n      });\n      // Destroy server and session\n      const cmd_destroy = \"import bokeh.io.notebook as ion; ion.destroy_server('\" + server_id + \"')\";\n      cell.notebook.kernel.execute(cmd_destroy);\n    }\n  }\n\n  /**\n   * Handle when a new output is added\n   */\n  function handleAddOutput(event, handle) {\n    const output_area = handle.output_area;\n    const output = handle.output;\n\n    // limit handleAddOutput to display_data with EXEC_MIME_TYPE content only\n    if ((output.output_type != \"display_data\") || (!Object.prototype.hasOwnProperty.call(output.data, EXEC_MIME_TYPE))) {\n      return\n    }\n\n    const toinsert = output_area.element.find(\".\" + CLASS_NAME.split(' ')[0]);\n\n    if (output.metadata[EXEC_MIME_TYPE][\"id\"] !== undefined) {\n      toinsert[toinsert.length - 1].firstChild.textContent = output.data[JS_MIME_TYPE];\n      // store reference to embed id on output_area\n      output_area._bokeh_element_id = output.metadata[EXEC_MIME_TYPE][\"id\"];\n    }\n    if (output.metadata[EXEC_MIME_TYPE][\"server_id\"] !== undefined) {\n      const bk_div = document.createElement(\"div\");\n      bk_div.innerHTML = output.data[HTML_MIME_TYPE];\n      const script_attrs = bk_div.children[0].attributes;\n      for (let i = 0; i < script_attrs.length; i++) {\n        toinsert[toinsert.length - 1].firstChild.setAttribute(script_attrs[i].name, script_attrs[i].value);\n        toinsert[toinsert.length - 1].firstChild.textContent = bk_div.children[0].textContent\n      }\n      // store reference to server id on output_area\n      output_area._bokeh_server_id = output.metadata[EXEC_MIME_TYPE][\"server_id\"];\n    }\n  }\n\n  function register_renderer(events, OutputArea) {\n\n    function append_mime(data, metadata, element) {\n      // create a DOM node to render to\n      const toinsert = this.create_output_subarea(\n        metadata,\n        CLASS_NAME,\n        EXEC_MIME_TYPE\n      );\n      this.keyboard_manager.register_events(toinsert);\n      // Render to node\n      const props = {data: data, metadata: metadata[EXEC_MIME_TYPE]};\n      render(props, toinsert[toinsert.length - 1]);\n      element.append(toinsert);\n      return toinsert\n    }\n\n    /* Handle when an output is cleared or removed */\n    events.on('clear_output.CodeCell', handleClearOutput);\n    events.on('delete.Cell', handleClearOutput);\n\n    /* Handle when a new output is added */\n    events.on('output_added.OutputArea', handleAddOutput);\n\n    /**\n     * Register the mime type and append_mime function with output_area\n     */\n    OutputArea.prototype.register_mime_type(EXEC_MIME_TYPE, append_mime, {\n      /* Is output safe? */\n      safe: true,\n      /* Index of renderer in `output_area.display_order` */\n      index: 0\n    });\n  }\n\n  // register the mime type if in Jupyter Notebook environment and previously unregistered\n  if (root.Jupyter !== undefined) {\n    const events = require('base/js/events');\n    const OutputArea = require('notebook/js/outputarea').OutputArea;\n\n    if (OutputArea.prototype.mime_types().indexOf(EXEC_MIME_TYPE) == -1) {\n      register_renderer(events, OutputArea);\n    }\n  }\n  if (typeof (root._bokeh_timeout) === \"undefined\" || force === true) {\n    root._bokeh_timeout = Date.now() + 5000;\n    root._bokeh_failed_load = false;\n  }\n\n  const NB_LOAD_WARNING = {'data': {'text/html':\n     \"<div style='background-color: #fdd'>\\n\"+\n     \"<p>\\n\"+\n     \"BokehJS does not appear to have successfully loaded. If loading BokehJS from CDN, this \\n\"+\n     \"may be due to a slow or bad network connection. Possible fixes:\\n\"+\n     \"</p>\\n\"+\n     \"<ul>\\n\"+\n     \"<li>re-rerun `output_notebook()` to attempt to load from CDN again, or</li>\\n\"+\n     \"<li>use INLINE resources instead, as so:</li>\\n\"+\n     \"</ul>\\n\"+\n     \"<code>\\n\"+\n     \"from bokeh.resources import INLINE\\n\"+\n     \"output_notebook(resources=INLINE)\\n\"+\n     \"</code>\\n\"+\n     \"</div>\"}};\n\n  function display_loaded(error = null) {\n    const el = document.getElementById(\"ce19f367-ac5f-446f-ab8f-c0e77c92145c\");\n    if (el != null) {\n      const html = (() => {\n        if (typeof root.Bokeh === \"undefined\") {\n          if (error == null) {\n            return \"BokehJS is loading ...\";\n          } else {\n            return \"BokehJS failed to load.\";\n          }\n        } else {\n          const prefix = `BokehJS ${root.Bokeh.version}`;\n          if (error == null) {\n            return `${prefix} successfully loaded.`;\n          } else {\n            return `${prefix} <b>encountered errors</b> while loading and may not function as expected.`;\n          }\n        }\n      })();\n      el.innerHTML = html;\n\n      if (error != null) {\n        const wrapper = document.createElement(\"div\");\n        wrapper.style.overflow = \"auto\";\n        wrapper.style.height = \"5em\";\n        wrapper.style.resize = \"vertical\";\n        const content = document.createElement(\"div\");\n        content.style.fontFamily = \"monospace\";\n        content.style.whiteSpace = \"pre-wrap\";\n        content.style.backgroundColor = \"rgb(255, 221, 221)\";\n        content.textContent = error.stack ?? error.toString();\n        wrapper.append(content);\n        el.append(wrapper);\n      }\n    } else if (Date.now() < root._bokeh_timeout) {\n      setTimeout(() => display_loaded(error), 100);\n    }\n  }\n\n  function run_callbacks() {\n    try {\n      root._bokeh_onload_callbacks.forEach(function(callback) {\n        if (callback != null)\n          callback();\n      });\n    } finally {\n      delete root._bokeh_onload_callbacks\n    }\n    console.debug(\"Bokeh: all callbacks have finished\");\n  }\n\n  function load_libs(css_urls, js_urls, callback) {\n    if (css_urls == null) css_urls = [];\n    if (js_urls == null) js_urls = [];\n\n    root._bokeh_onload_callbacks.push(callback);\n    if (root._bokeh_is_loading > 0) {\n      console.debug(\"Bokeh: BokehJS is being loaded, scheduling callback at\", now());\n      return null;\n    }\n    if (js_urls == null || js_urls.length === 0) {\n      run_callbacks();\n      return null;\n    }\n    console.debug(\"Bokeh: BokehJS not loaded, scheduling load and callback at\", now());\n    root._bokeh_is_loading = css_urls.length + js_urls.length;\n\n    function on_load() {\n      root._bokeh_is_loading--;\n      if (root._bokeh_is_loading === 0) {\n        console.debug(\"Bokeh: all BokehJS libraries/stylesheets loaded\");\n        run_callbacks()\n      }\n    }\n\n    function on_error(url) {\n      console.error(\"failed to load \" + url);\n    }\n\n    for (let i = 0; i < css_urls.length; i++) {\n      const url = css_urls[i];\n      const element = document.createElement(\"link\");\n      element.onload = on_load;\n      element.onerror = on_error.bind(null, url);\n      element.rel = \"stylesheet\";\n      element.type = \"text/css\";\n      element.href = url;\n      console.debug(\"Bokeh: injecting link tag for BokehJS stylesheet: \", url);\n      document.body.appendChild(element);\n    }\n\n    for (let i = 0; i < js_urls.length; i++) {\n      const url = js_urls[i];\n      const element = document.createElement('script');\n      element.onload = on_load;\n      element.onerror = on_error.bind(null, url);\n      element.async = false;\n      element.src = url;\n      console.debug(\"Bokeh: injecting script tag for BokehJS library: \", url);\n      document.head.appendChild(element);\n    }\n  };\n\n  function inject_raw_css(css) {\n    const element = document.createElement(\"style\");\n    element.appendChild(document.createTextNode(css));\n    document.body.appendChild(element);\n  }\n\n  const js_urls = [\"https://cdn.bokeh.org/bokeh/release/bokeh-3.4.1.min.js\", \"https://cdn.bokeh.org/bokeh/release/bokeh-gl-3.4.1.min.js\", \"https://cdn.bokeh.org/bokeh/release/bokeh-widgets-3.4.1.min.js\", \"https://cdn.bokeh.org/bokeh/release/bokeh-tables-3.4.1.min.js\", \"https://cdn.bokeh.org/bokeh/release/bokeh-mathjax-3.4.1.min.js\", \"https://unpkg.com/@holoviz/panel@1.4.4/dist/panel.min.js\"];\n  const css_urls = [];\n\n  const inline_js = [    function(Bokeh) {\n      Bokeh.set_log_level(\"info\");\n    },\nfunction(Bokeh) {\n    }\n  ];\n\n  function run_inline_js() {\n    if (root.Bokeh !== undefined || force === true) {\n      try {\n            for (let i = 0; i < inline_js.length; i++) {\n      inline_js[i].call(root, root.Bokeh);\n    }\n\n      } catch (error) {display_loaded(error);throw error;\n      }if (force === true) {\n        display_loaded();\n      }} else if (Date.now() < root._bokeh_timeout) {\n      setTimeout(run_inline_js, 100);\n    } else if (!root._bokeh_failed_load) {\n      console.log(\"Bokeh: BokehJS failed to load within specified timeout.\");\n      root._bokeh_failed_load = true;\n    } else if (force !== true) {\n      const cell = $(document.getElementById(\"ce19f367-ac5f-446f-ab8f-c0e77c92145c\")).parents('.cell').data().cell;\n      cell.output_area.append_execute_result(NB_LOAD_WARNING)\n    }\n  }\n\n  if (root._bokeh_is_loading === 0) {\n    console.debug(\"Bokeh: BokehJS loaded, going straight to plotting\");\n    run_inline_js();\n  } else {\n    load_libs(css_urls, js_urls, function() {\n      console.debug(\"Bokeh: BokehJS plotting callback run at\", now());\n      run_inline_js();\n    });\n  }\n}(window));",
      "application/vnd.bokehjs_load.v0+json": ""
     },
     "metadata": {},
     "output_type": "display_data"
    }
   ],
   "source": [
    "import umap.plot\n",
    "\n",
    "umap.plot.output_notebook()\n"
   ]
  },
  {
   "cell_type": "code",
   "execution_count": 15,
   "metadata": {},
   "outputs": [],
   "source": [
    "# we should investigate different settings for the UMAP algorithm\n",
    "# to get a better representation of the data\n",
    "reducer = umap.UMAP(n_neighbors=5, min_dist=0.01, metric='cosine')\n",
    "umap_embedding_obj = reducer.fit(embeddings)"
   ]
  },
  {
   "cell_type": "code",
   "execution_count": 45,
   "metadata": {},
   "outputs": [
    {
     "name": "stderr",
     "output_type": "stream",
     "text": [
      "BokehDeprecationWarning: 'circle() method with size value' was deprecated in Bokeh 3.4.0 and will be removed, use 'scatter(size=...) instead' instead.\n"
     ]
    },
    {
     "data": {
      "text/html": [
       "\n",
       "  <div id=\"e7823315-d52f-42fa-af65-c9726e9d3647\" data-root-id=\"p1203\" style=\"display: contents;\"></div>\n"
      ]
     },
     "metadata": {},
     "output_type": "display_data"
    },
    {
     "data": {
      "application/javascript": "(function(root) {\n  function embed_document(root) {\n  const docs_json = {\"e1eea93c-fc39-4298-b9d5-b40eaa757735\":{\"version\":\"3.4.1\",\"title\":\"Bokeh Application\",\"roots\":[{\"type\":\"object\",\"name\":\"Figure\",\"id\":\"p1203\",\"attributes\":{\"width\":800,\"height\":800,\"x_range\":{\"type\":\"object\",\"name\":\"DataRange1d\",\"id\":\"p1204\"},\"y_range\":{\"type\":\"object\",\"name\":\"DataRange1d\",\"id\":\"p1205\"},\"x_scale\":{\"type\":\"object\",\"name\":\"LinearScale\",\"id\":\"p1212\"},\"y_scale\":{\"type\":\"object\",\"name\":\"LinearScale\",\"id\":\"p1213\"},\"title\":{\"type\":\"object\",\"name\":\"Title\",\"id\":\"p1210\"},\"renderers\":[{\"type\":\"object\",\"name\":\"GlyphRenderer\",\"id\":\"p1242\",\"attributes\":{\"data_source\":{\"type\":\"object\",\"name\":\"ColumnDataSource\",\"id\":\"p1200\",\"attributes\":{\"selected\":{\"type\":\"object\",\"name\":\"Selection\",\"id\":\"p1201\",\"attributes\":{\"indices\":[],\"line_indices\":[]}},\"selection_policy\":{\"type\":\"object\",\"name\":\"UnionRenderers\",\"id\":\"p1202\"},\"data\":{\"type\":\"map\",\"entries\":[[\"index\",{\"type\":\"ndarray\",\"array\":{\"type\":\"bytes\",\"data\":\"AAAAAAEAAAACAAAAAwAAAAQAAAAFAAAABgAAAAcAAAAIAAAACQAAAAoAAAALAAAADAAAAA0AAAAOAAAADwAAABAAAAARAAAAEgAAABMAAAAUAAAAFQAAABYAAAAXAAAAGAAAABkAAAAaAAAAGwAAABwAAAAdAAAAHgAAAB8AAAAgAAAAIQAAACIAAAAjAAAAJAAAACUAAAAmAAAAJwAAACgAAAApAAAAKgAAACsAAAAsAAAALQAAAC4AAAAvAAAAMAAAADEAAAAyAAAAMwAAADQAAAA1AAAANgAAADcAAAA4AAAAOQAAADoAAAA7AAAAPAAAAD0AAAA+AAAAPwAAAEAAAABBAAAAQgAAAEMAAABEAAAARQAAAEYAAABHAAAASAAAAEkAAABKAAAASwAAAEwAAABNAAAATgAAAE8AAABQAAAAUQAAAFIAAABTAAAAVAAAAFUAAABWAAAAVwAAAFgAAABZAAAAWgAAAFsAAABcAAAAXQAAAF4AAABfAAAAYAAAAGEAAABiAAAAYwAAAGQAAABlAAAAZgAAAGcAAABoAAAAaQAAAGoAAABrAAAAbAAAAG0AAABuAAAAbwAAAHAAAABxAAAAcgAAAHMAAAB0AAAAdQAAAHYAAAB3AAAAeAAAAHkAAAB6AAAAewAAAHwAAAB9AAAAfgAAAH8AAACAAAAAgQAAAIIAAACDAAAAhAAAAIUAAACGAAAAhwAAAIgAAACJAAAAigAAAIsAAACMAAAAjQAAAI4AAACPAAAAkAAAAJEAAACSAAAAkwAAAJQAAACVAAAAlgAAAJcAAACYAAAAmQAAAJoAAACbAAAAnAAAAJ0AAACeAAAAnwAAAKAAAAChAAAAogAAAKMAAACkAAAApQAAAKYAAACnAAAAqAAAAKkAAACqAAAAqwAAAA==\"},\"shape\":[172],\"dtype\":\"int32\",\"order\":\"little\"}],[\"x\",{\"type\":\"ndarray\",\"array\":{\"type\":\"bytes\",\"data\":\"lakUQXBVlkAOhcg/NOsNQLi9hz8oYM4/h0WHQNZsFUGS6BdBn+UYQfjpGEHSChpBb88ZQXH+GEFR6EFAtsQ2QDHcZUALw5dAV7eSQBP1aUCSlmxAhkRyQBMebkAh4nFAcf1kQJAgUUAcUk9A0L5IQOo0nkCjOohA6zSHQKmhiEAHjYBAHn2AQOFRZkB042xAq5BFQAQbL0B/rC5A9zYpQJ8MKUADHCBAG+TLP2eRyD8GmsY/Qe/FPzYOxj/AQ8Y/z4rFPwQ38D9zJdU/FKoMQNL1C0BLKSFAzuoNQLX6C0DYqlpAGtZsQEYhbkC3+whA9po+P4/cID/nVS4/tFU3P8Voaj/6qVw/ono8P5KGkT/8crY/+E/RP0sCyT/Hp+g/6ofrP89S8j/VZNI/wWHYP2YF3D8kNPc/XKcTQA463T/DwvQ/Ucz+P1oAAEDCAv4/zc+KQHoJlED3bglB7U8PQdGbD0F+1wxBNezpQNA/60AW0vRA9FUVQVHnFUE/FBdBFk4YQeQsGEEGyBBBKxaJQCuFGEESjA9BzrMPQRVSikCAkppAGvSyQNmxmkBBrLZA32K0QKSno0DjzspAGfXLQIe7zUD8Ds5AWN/KQKzK0UC47s9Al6HbQHW94kCMBalASCjHQBiVwUDZpbVAi1O5QNzXtkB3cLpAqoW5QBPNB0FrvaBA6ozXQJ372kAEW95Ax/HiQLaRU0Czc+BAX83lQDYI4kDV7eVAp8DiQKLtmkD6NNJA2dPbQPMO1kDld6lAZCymQAZ0r0DOUq1ABoSzQKi9lUDRd8pAIT3lQE6r40D48qdAU3WgQNHHnkDJqL9AnMKpQMBHq0Co36RAzI6GQCqUh0CXmYdACxOIQCdwkUDazDBAoE4yQBXm90B3P4VAFkKBQFk0g0DtwJBAFUGJQA==\"},\"shape\":[172],\"dtype\":\"float32\",\"order\":\"little\"}],[\"y\",{\"type\":\"ndarray\",\"array\":{\"type\":\"bytes\",\"data\":\"YhebQBASn0BMB2FAnLquQPyN/kCJbvdAHGrQQErdmkA5qZlAYxSXQGzwoECroJVAOQuVQCIJl0A9TrhAAyq8QMVMqkAbwZ5AnEmdQGBrnEDKCqNAeTqlQMNmpkA5rKFARX6ZQA1XmkBJ1ppAjCieQJ3ToUAgpKpA7QKtQD2Kr0BAH7NAJsq3QKAdtUA+q7JAIbSzQOwCr0Bjg7VA1f68QGwIvUB5JcRAymJaQBCLXEDnRF9Awd5gQBuUdEC1VXtAFR16QDuoj0DjHYZALkuhQJgen0ACnqJAUPSkQGjhrEAFl8JAgWTAQAwMv0Coe7NA1kMDQRkRAUG4qQJBijcCQV0tAUGCDAFBHpUBQfzF/kDUbfZANB8EQbTtBEFyIwNB6OUAQd9QB0FctQdB88wJQezbB0FNpwhBP8YFQSYe+0CEYPJAnmftQNBhukArvexAcg/aQPgxBkFA3ctAF7zEQB8vw0CU1MJAs2jcQPCI20Ap5dxAzvytQDQ3n0C6oqtAUPqsQBCVpkB6x7tAfYrNQE36pUD3KcJAbc3CQDP2wUBrqgdB8WP4QGitn0CHkeZAO+H0QJ77oUD+a8tA6wjJQMqVvUCYQr1Ac9e/QDCO5UDnJudAK9fkQF3w4kDJ3KdA6Fy8QGOrvUCndsZA4GTHQAePxkDm1u1A57ruQKizxECgCQhBa5X5QJOI+ED5E/dAYEYFQRFGCUGagwxBXGMLQRwaC0ESpgxBTksOQbXcA0H08Q1BBGEMQXFGDEGEcQpBiDoHQbyB5EAEJ+ZA8e/hQMyBCkHm+cpAqD8JQbbvBkErbwBB+O8AQfpW90B4Q9hA4hIKQfgGC0HKvwZBwhMUQbfCFEE1yxRBjnoUQUZzD0HjDwhBWUMHQURj20D/VgJBPTcCQbsKBEEmHQhBumYFQQ==\"},\"shape\":[172],\"dtype\":\"float32\",\"order\":\"little\"}],[\"page\",{\"type\":\"ndarray\",\"array\":{\"type\":\"bytes\",\"data\":\"AAAAAAAAAAAAAAAAAAAAAAEAAAABAAAAAQAAAAIAAAACAAAAAgAAAAMAAAADAAAAAwAAAAMAAAAEAAAABAAAAAUAAAAFAAAABQAAAAUAAAAGAAAABgAAAAYAAAAGAAAABgAAAAcAAAAHAAAABwAAAAcAAAAIAAAACAAAAAgAAAAIAAAACAAAAAkAAAAJAAAACQAAAAkAAAAJAAAACgAAAAoAAAAKAAAACgAAAAoAAAALAAAACwAAAAsAAAALAAAACwAAAAwAAAAMAAAADAAAAAwAAAANAAAADQAAAA0AAAANAAAADgAAAA4AAAAOAAAADgAAAA4AAAAPAAAADwAAAA8AAAAPAAAADwAAABAAAAAQAAAAEAAAABAAAAAQAAAAEQAAABEAAAARAAAAEQAAABEAAAASAAAAEgAAABIAAAASAAAAEgAAABMAAAATAAAAEwAAABMAAAAUAAAAFAAAABQAAAAUAAAAFAAAABUAAAAVAAAAFQAAABUAAAAWAAAAFgAAABYAAAAWAAAAFgAAABcAAAAXAAAAFwAAABcAAAAXAAAAGAAAABgAAAAYAAAAGAAAABgAAAAZAAAAGQAAABkAAAAZAAAAGQAAABoAAAAaAAAAGgAAABoAAAAbAAAAGwAAABsAAAAbAAAAGwAAABwAAAAcAAAAHAAAABwAAAAcAAAAHQAAAB0AAAAdAAAAHQAAAB0AAAAeAAAAHgAAAB4AAAAeAAAAHgAAAB4AAAAfAAAAHwAAAB8AAAAfAAAAIAAAACAAAAAgAAAAIAAAACAAAAAhAAAAIQAAACEAAAAhAAAAIQAAACIAAAAiAAAAIgAAACIAAAAiAAAAIwAAACMAAAAjAAAAIwAAACMAAAAkAAAAJAAAACQAAAAlAAAAJQAAACUAAAAlAAAAJgAAAA==\"},\"shape\":[172],\"dtype\":\"int32\",\"order\":\"little\"}],[\"source\",{\"type\":\"ndarray\",\"array\":[\"./data/Elephant-Wikipedia.pdf\",\"./data/Elephant-Wikipedia.pdf\",\"./data/Elephant-Wikipedia.pdf\",\"./data/Elephant-Wikipedia.pdf\",\"./data/Elephant-Wikipedia.pdf\",\"./data/Elephant-Wikipedia.pdf\",\"./data/Elephant-Wikipedia.pdf\",\"./data/Elephant-Wikipedia.pdf\",\"./data/Elephant-Wikipedia.pdf\",\"./data/Elephant-Wikipedia.pdf\",\"./data/Elephant-Wikipedia.pdf\",\"./data/Elephant-Wikipedia.pdf\",\"./data/Elephant-Wikipedia.pdf\",\"./data/Elephant-Wikipedia.pdf\",\"./data/Elephant-Wikipedia.pdf\",\"./data/Elephant-Wikipedia.pdf\",\"./data/Elephant-Wikipedia.pdf\",\"./data/Elephant-Wikipedia.pdf\",\"./data/Elephant-Wikipedia.pdf\",\"./data/Elephant-Wikipedia.pdf\",\"./data/Elephant-Wikipedia.pdf\",\"./data/Elephant-Wikipedia.pdf\",\"./data/Elephant-Wikipedia.pdf\",\"./data/Elephant-Wikipedia.pdf\",\"./data/Elephant-Wikipedia.pdf\",\"./data/Elephant-Wikipedia.pdf\",\"./data/Elephant-Wikipedia.pdf\",\"./data/Elephant-Wikipedia.pdf\",\"./data/Elephant-Wikipedia.pdf\",\"./data/Elephant-Wikipedia.pdf\",\"./data/Elephant-Wikipedia.pdf\",\"./data/Elephant-Wikipedia.pdf\",\"./data/Elephant-Wikipedia.pdf\",\"./data/Elephant-Wikipedia.pdf\",\"./data/Elephant-Wikipedia.pdf\",\"./data/Elephant-Wikipedia.pdf\",\"./data/Elephant-Wikipedia.pdf\",\"./data/Elephant-Wikipedia.pdf\",\"./data/Elephant-Wikipedia.pdf\",\"./data/Elephant-Wikipedia.pdf\",\"./data/Elephant-Wikipedia.pdf\",\"./data/Elephant-Wikipedia.pdf\",\"./data/Elephant-Wikipedia.pdf\",\"./data/Elephant-Wikipedia.pdf\",\"./data/Elephant-Wikipedia.pdf\",\"./data/Elephant-Wikipedia.pdf\",\"./data/Elephant-Wikipedia.pdf\",\"./data/Elephant-Wikipedia.pdf\",\"./data/Elephant-Wikipedia.pdf\",\"./data/Elephant-Wikipedia.pdf\",\"./data/Elephant-Wikipedia.pdf\",\"./data/Elephant-Wikipedia.pdf\",\"./data/Elephant-Wikipedia.pdf\",\"./data/Elephant-Wikipedia.pdf\",\"./data/Elephant-Wikipedia.pdf\",\"./data/Elephant-Wikipedia.pdf\",\"./data/Elephant-Wikipedia.pdf\",\"./data/Elephant-Wikipedia.pdf\",\"./data/Elephant-Wikipedia.pdf\",\"./data/Elephant-Wikipedia.pdf\",\"./data/Elephant-Wikipedia.pdf\",\"./data/Elephant-Wikipedia.pdf\",\"./data/Elephant-Wikipedia.pdf\",\"./data/Elephant-Wikipedia.pdf\",\"./data/Elephant-Wikipedia.pdf\",\"./data/Elephant-Wikipedia.pdf\",\"./data/Elephant-Wikipedia.pdf\",\"./data/Elephant-Wikipedia.pdf\",\"./data/Elephant-Wikipedia.pdf\",\"./data/Elephant-Wikipedia.pdf\",\"./data/Elephant-Wikipedia.pdf\",\"./data/Elephant-Wikipedia.pdf\",\"./data/Elephant-Wikipedia.pdf\",\"./data/Elephant-Wikipedia.pdf\",\"./data/Elephant-Wikipedia.pdf\",\"./data/Elephant-Wikipedia.pdf\",\"./data/Elephant-Wikipedia.pdf\",\"./data/Elephant-Wikipedia.pdf\",\"./data/Elephant-Wikipedia.pdf\",\"./data/Elephant-Wikipedia.pdf\",\"./data/Elephant-Wikipedia.pdf\",\"./data/Elephant-Wikipedia.pdf\",\"./data/Elephant-Wikipedia.pdf\",\"./data/Elephant-Wikipedia.pdf\",\"./data/Elephant-Wikipedia.pdf\",\"./data/Elephant-Wikipedia.pdf\",\"./data/Elephant-Wikipedia.pdf\",\"./data/Elephant-Wikipedia.pdf\",\"./data/Elephant-Wikipedia.pdf\",\"./data/Elephant-Wikipedia.pdf\",\"./data/Elephant-Wikipedia.pdf\",\"./data/Elephant-Wikipedia.pdf\",\"./data/Elephant-Wikipedia.pdf\",\"./data/Elephant-Wikipedia.pdf\",\"./data/Elephant-Wikipedia.pdf\",\"./data/Elephant-Wikipedia.pdf\",\"./data/Elephant-Wikipedia.pdf\",\"./data/Elephant-Wikipedia.pdf\",\"./data/Elephant-Wikipedia.pdf\",\"./data/Elephant-Wikipedia.pdf\",\"./data/Elephant-Wikipedia.pdf\",\"./data/Elephant-Wikipedia.pdf\",\"./data/Elephant-Wikipedia.pdf\",\"./data/Elephant-Wikipedia.pdf\",\"./data/Elephant-Wikipedia.pdf\",\"./data/Elephant-Wikipedia.pdf\",\"./data/Elephant-Wikipedia.pdf\",\"./data/Elephant-Wikipedia.pdf\",\"./data/Elephant-Wikipedia.pdf\",\"./data/Elephant-Wikipedia.pdf\",\"./data/Elephant-Wikipedia.pdf\",\"./data/Elephant-Wikipedia.pdf\",\"./data/Elephant-Wikipedia.pdf\",\"./data/Elephant-Wikipedia.pdf\",\"./data/Elephant-Wikipedia.pdf\",\"./data/Elephant-Wikipedia.pdf\",\"./data/Elephant-Wikipedia.pdf\",\"./data/Elephant-Wikipedia.pdf\",\"./data/Elephant-Wikipedia.pdf\",\"./data/Elephant-Wikipedia.pdf\",\"./data/Elephant-Wikipedia.pdf\",\"./data/Elephant-Wikipedia.pdf\",\"./data/Elephant-Wikipedia.pdf\",\"./data/Elephant-Wikipedia.pdf\",\"./data/Elephant-Wikipedia.pdf\",\"./data/Elephant-Wikipedia.pdf\",\"./data/Elephant-Wikipedia.pdf\",\"./data/Elephant-Wikipedia.pdf\",\"./data/Elephant-Wikipedia.pdf\",\"./data/Elephant-Wikipedia.pdf\",\"./data/Elephant-Wikipedia.pdf\",\"./data/Elephant-Wikipedia.pdf\",\"./data/Elephant-Wikipedia.pdf\",\"./data/Elephant-Wikipedia.pdf\",\"./data/Elephant-Wikipedia.pdf\",\"./data/Elephant-Wikipedia.pdf\",\"./data/Elephant-Wikipedia.pdf\",\"./data/Elephant-Wikipedia.pdf\",\"./data/Elephant-Wikipedia.pdf\",\"./data/Elephant-Wikipedia.pdf\",\"./data/Elephant-Wikipedia.pdf\",\"./data/Elephant-Wikipedia.pdf\",\"./data/Elephant-Wikipedia.pdf\",\"./data/Elephant-Wikipedia.pdf\",\"./data/Elephant-Wikipedia.pdf\",\"./data/Elephant-Wikipedia.pdf\",\"./data/Elephant-Wikipedia.pdf\",\"./data/Elephant-Wikipedia.pdf\",\"./data/Elephant-Wikipedia.pdf\",\"./data/Elephant-Wikipedia.pdf\",\"./data/Elephant-Wikipedia.pdf\",\"./data/Elephant-Wikipedia.pdf\",\"./data/Elephant-Wikipedia.pdf\",\"./data/Elephant-Wikipedia.pdf\",\"./data/Elephant-Wikipedia.pdf\",\"./data/Elephant-Wikipedia.pdf\",\"./data/Elephant-Wikipedia.pdf\",\"./data/Elephant-Wikipedia.pdf\",\"./data/Elephant-Wikipedia.pdf\",\"./data/Elephant-Wikipedia.pdf\",\"./data/Elephant-Wikipedia.pdf\",\"./data/Elephant-Wikipedia.pdf\",\"./data/Elephant-Wikipedia.pdf\",\"./data/Elephant-Wikipedia.pdf\",\"./data/Elephant-Wikipedia.pdf\",\"./data/Elephant-Wikipedia.pdf\",\"./data/Elephant-Wikipedia.pdf\",\"./data/Elephant-Wikipedia.pdf\",\"./data/Elephant-Wikipedia.pdf\",\"./data/Elephant-Wikipedia.pdf\",\"./data/Elephant-Wikipedia.pdf\",\"./data/Elephant-Wikipedia.pdf\"],\"shape\":[172],\"dtype\":\"object\",\"order\":\"little\"}],[\"content\",{\"type\":\"ndarray\",\"array\":[\"Elephants\\nTemporal range: ...\",\"and  tough  but  sensitiv ...\",\"on their environments. El ...\",\"well as reproductive succ ...\",\"Distribution of living el ...\",\"threats  to  wild  elepha ...\",\"pa-to) in Linear B syllab ...\",\"Proboscideaearly  probosc ...\",\"African Eritherium and Ph ...\",\"their  African  homeland  ...\",\"Elephas\\nProboscidea phylo ...\",\"Americas became extinct w ...\",\"Stegodon,  mastodons,  an ...\",\"di\\ufb00erent  shapes  and  si ...\",\"Name Size Appearance Dist ...\",\"forests, but\\noccasionally ...\",\"African bush elephant ske ...\",\"support the entire head.[ ...\",\"environment. This e\\ufb00ect i ...\",\"the nose and upper lip, w ...\",\"Asian elephant drinking w ...\",\"extensions at the tip of  ...\",\"capable of powerful sipho ...\",\"contribute to its tactile ...\",\"muscles. The disorder has ...\",\"Molar of an adult African ...\",\"develops,  it  is  topped ...\",\"dominant, or \\\"master\\\" tus ...\",\"An elephant's skin is gen ...\",\"Front feet of bush elepha ...\",\"in the long term.[71]\\nTo  ...\",\"or have very small ones.[ ...\",\"o\\ufb00 the ground, although t ...\",\"traversing up to 48\\u00a0km (3 ...\",\"African elephant heart in ...\",\"addition, the ventricles  ...\",\"length. Less than half of ...\",\"the temporal gland, locat ...\",\"day, but distances as far ...\",\"An Asian elephant feeding ...\",\"distances, with either no ...\",\"Some aggressive interacti ...\",\"be killed o\\ufb00 by predators ...\",\"split if they cannot be s ...\",\"Lone bull: Adult male ele ...\",\"groups and possibly clans ...\",\"dense forests. A dominanc ...\",\"no bulls under 24 were fo ...\",\"musth bulls win the major ...\",\"Indian elephant bull in\\nm ...\",\"signaling to males that s ...\",\"comfort.[120] During copu ...\",\"take place during the wet ...\",\"An African forest elephan ...\",\"which it begins to forage ...\",\"reaching 60\\u201370 years of a ...\",\"their ears. They may add  ...\",\"Elephant rolling a block  ...\",\"mock charging can create  ...\",\"modi\\ufb01cation  by  these  a ...\",\"said that \\\"one is well ad ...\",\"elephant populations decl ...\",\"A family of African fores ...\",\"early  1990s.  In  1989,  ...\",\"highly fragmented.[150] T ...\",\"States  in  June  1989,   ...\",\"trade and were allowed to ...\",\"Working elephant as trans ...\",\"with some of the highest  ...\",\"used  in  modern  times.  ...\",\"dangerous to work with an ...\",\"present with the Api Elep ...\",\"Battle of Zama by Henri-P ...\",\"died of disease and comba ...\",\"Elephants have traditiona ...\",\"access to the animals and ...\",\"2009, Barnum & Bailey Cir ...\",\"Hindu god Ganeshastated t ...\",\"male elephants have enter ...\",\"southern Africa.[182] In  ...\",\"other African societies,  ...\",\"desires, but could also t ...\",\"human.[189]\\nIn  Western   ...\",\"Several cultural referenc ...\",\"2. Harper, D. \\\"Elephant\\\"  ...\",\"2013.See also\\nReferencesE ...\",\"5. T abuce, R.; Asher, R. ...\",\"6. Kellogg, M.; Burkett,  ...\",\"7. Ozawa, T.; Hayashi, S. ...\",\"from the original on 1 Fe ...\",\"6 (6): e20642. Bibcode:20 ...\",\"12. Roca, Alfred L.; Ishi ...\",\"E2574. Bibcode:2018PNAS.. ...\",\"of America. 106 (26): 107 ...\",\"18. Shoshani, J.; Walter, ...\",\"19. Baleka, S; Varela, L; ...\",\"20. Benoit, Julien; Lyras ...\",\"21. Cantalapiedra, Juan L ...\",\"University of Thessalonik ...\",\"24. Iannucci, Alessio; Sa ...\",\"25. Moth\\u00e9, Dimila; dos Sa ...\",\"26. Lister, A. M.; Sher,  ...\",\"Paleoecology in the Levan ...\",\"30. Sukumar, pp. 31\\u201333.\\n3 ...\",\"Palaeontologica Polonica. ...\",\"35. Shoshani, J.; Eisenbe ...\",\"Center, Department of Com ...\",\"15 May 2021. Retrieved 14 ...\",\"Archived from the origina ...\",\"44. Yokoyama, S.; T akena ...\",\"45. Byrne, R. W.; Bates,  ...\",\"Journal of Comparative Ps ...\",\"49. Schulz, A. K.; Boyle, ...\",\"50. Kingdon, p. 9.\\n51. Sc ...\",\"53. Sukumar, p. 149.\\n54.  ...\",\"55. Cole, M. (14 November ...\",\"61. \\\"Under poaching press ...\",\"October 2009. Retrieved 2 ...\",\"65. Kurt, F .; Hartl, G.; ...\",\"68. Lamps, L. W.; Smoller ...\",\"71. Martins, Ant\\u00f3nio F .; ...\",\"72. Shoshani, pp. 69\\u201370.\\n ...\",\"74. Shoshani, p. 74.\\n75.  ...\",\"(2006). \\\"The locomotor ki ...\",\"77. Hutchinson, J. R.; Fa ...\",\"2023.\\n78. Shoshani, p. 60 ...\",\"A.; Fitch, W. T. (2013).  ...\",\"17 October 2020.\\n84. Shar ...\",\"536. doi:10.1530/jrf.0.01 ...\",\"88. Siegel, J. M. (2005). ...\",\"90. Sukumar, p. 174.\\n91.  ...\",\"2012.\\n94. Campos-Arceiz,  ...\",\"Archived from the origina ...\",\"98. \\\"Tiger kills elephant ...\",\"100. de Silva, S.; Wittem ...\",\"C. (2011). \\\"Leadership in ...\",\"Wittemyer, G. (2014). \\\"Co ...\",\"119. doi:10.1016/j.anbeha ...\",\"and followers in collecti ...\",\"31 of 39 5/19/24, 14:55 ...\",\"111. Slotow, R.; van Dyk, ...\",\"from the original  (http: ...\",\"University of California  ...\",\"3696. doi:10.1098/rspb.20 ...\",\"129. \\\"War veteran elephan ...\",\"M.; Fitch, W. T. (2012).  ...\",\"Journal of Experimental B ...\",\"Asian elephant (Elephas m ...\",\"44\\u201349. Bibcode:1957SciAm. ...\",\"141. Hart, B. J.; Hart, L ...\",\"Behaviour. 62 (5): 839\\u201384 ...\",\"Applied Animal Behaviour  ...\",\"e.T181008073A181022663. R ...\",\"2021.149. Williams, C.; e ...\",\"153. Hicks, Celeste (19 M ...\",\"Retrieved 12 October 2015 ...\",\"727. Bibcode:2022Ambio..5 ...\",\"\\\"Unemployed, Myanmar's El ...\",\"January 2022. Retrieved 3 ...\",\"168. Sterm, A. (28 Februa ...\",\"16 November 2011.170. Mot ...\",\"2009. Archived from the o ...\",\"Petersburg, Florida: CNN. ...\",\"20 September 2013. Retrie ...\",\"178. Krishnan, Murali (19 ...\",\"from the original on 26 D ...\",\"Greenwood Press. pp.\\u00a073\\u20137 ...\",\"\\u25aa Shoshani, J., ed. (2000 ...\",\"\\u25aa Eltringham, S. K. \\\"Ecol ...\",\"Majestic Creatures of the ...\",\"original on 21 March 2023 ...\",\"\\u25aa Carrington, Richard (19 ...\"],\"shape\":[172],\"dtype\":\"object\",\"order\":\"little\"}],[\"alpha\",{\"type\":\"ndarray\",\"array\":{\"type\":\"bytes\",\"data\":\"AQAAAAEAAAABAAAAAQAAAAEAAAABAAAAAQAAAAEAAAABAAAAAQAAAAEAAAABAAAAAQAAAAEAAAABAAAAAQAAAAEAAAABAAAAAQAAAAEAAAABAAAAAQAAAAEAAAABAAAAAQAAAAEAAAABAAAAAQAAAAEAAAABAAAAAQAAAAEAAAABAAAAAQAAAAEAAAABAAAAAQAAAAEAAAABAAAAAQAAAAEAAAABAAAAAQAAAAEAAAABAAAAAQAAAAEAAAABAAAAAQAAAAEAAAABAAAAAQAAAAEAAAABAAAAAQAAAAEAAAABAAAAAQAAAAEAAAABAAAAAQAAAAEAAAABAAAAAQAAAAEAAAABAAAAAQAAAAEAAAABAAAAAQAAAAEAAAABAAAAAQAAAAEAAAABAAAAAQAAAAEAAAABAAAAAQAAAAEAAAABAAAAAQAAAAEAAAABAAAAAQAAAAEAAAABAAAAAQAAAAEAAAABAAAAAQAAAAEAAAABAAAAAQAAAAEAAAABAAAAAQAAAAEAAAABAAAAAQAAAAEAAAABAAAAAQAAAAEAAAABAAAAAQAAAAEAAAABAAAAAQAAAAEAAAABAAAAAQAAAAEAAAABAAAAAQAAAAEAAAABAAAAAQAAAAEAAAABAAAAAQAAAAEAAAABAAAAAQAAAAEAAAABAAAAAQAAAAEAAAABAAAAAQAAAAEAAAABAAAAAQAAAAEAAAABAAAAAQAAAAEAAAABAAAAAQAAAAEAAAABAAAAAQAAAAEAAAABAAAAAQAAAAEAAAABAAAAAQAAAAEAAAABAAAAAQAAAAEAAAABAAAAAQAAAAEAAAABAAAAAQAAAAEAAAABAAAAAQAAAAEAAAABAAAAAQAAAAEAAAABAAAAAQAAAAEAAAABAAAAAQAAAAEAAAABAAAAAQAAAA==\"},\"shape\":[172],\"dtype\":\"int32\",\"order\":\"little\"}]]}}},\"view\":{\"type\":\"object\",\"name\":\"CDSView\",\"id\":\"p1243\",\"attributes\":{\"filter\":{\"type\":\"object\",\"name\":\"AllIndices\",\"id\":\"p1244\"}}},\"glyph\":{\"type\":\"object\",\"name\":\"Scatter\",\"id\":\"p1239\",\"attributes\":{\"x\":{\"type\":\"field\",\"field\":\"x\"},\"y\":{\"type\":\"field\",\"field\":\"y\"},\"size\":{\"type\":\"value\",\"value\":7.624928516630233},\"line_color\":{\"type\":\"value\",\"value\":\"#6aaed6\"},\"line_alpha\":{\"type\":\"field\",\"field\":\"alpha\"},\"fill_color\":{\"type\":\"value\",\"value\":\"#6aaed6\"},\"fill_alpha\":{\"type\":\"field\",\"field\":\"alpha\"},\"hatch_color\":{\"type\":\"value\",\"value\":\"#6aaed6\"},\"hatch_alpha\":{\"type\":\"field\",\"field\":\"alpha\"}}},\"nonselection_glyph\":{\"type\":\"object\",\"name\":\"Scatter\",\"id\":\"p1240\",\"attributes\":{\"x\":{\"type\":\"field\",\"field\":\"x\"},\"y\":{\"type\":\"field\",\"field\":\"y\"},\"size\":{\"type\":\"value\",\"value\":7.624928516630233},\"line_color\":{\"type\":\"value\",\"value\":\"#6aaed6\"},\"line_alpha\":{\"type\":\"value\",\"value\":0.1},\"fill_color\":{\"type\":\"value\",\"value\":\"#6aaed6\"},\"fill_alpha\":{\"type\":\"value\",\"value\":0.1},\"hatch_color\":{\"type\":\"value\",\"value\":\"#6aaed6\"},\"hatch_alpha\":{\"type\":\"value\",\"value\":0.1}}},\"muted_glyph\":{\"type\":\"object\",\"name\":\"Scatter\",\"id\":\"p1241\",\"attributes\":{\"x\":{\"type\":\"field\",\"field\":\"x\"},\"y\":{\"type\":\"field\",\"field\":\"y\"},\"size\":{\"type\":\"value\",\"value\":7.624928516630233},\"line_color\":{\"type\":\"value\",\"value\":\"#6aaed6\"},\"line_alpha\":{\"type\":\"value\",\"value\":0.2},\"fill_color\":{\"type\":\"value\",\"value\":\"#6aaed6\"},\"fill_alpha\":{\"type\":\"value\",\"value\":0.2},\"hatch_color\":{\"type\":\"value\",\"value\":\"#6aaed6\"},\"hatch_alpha\":{\"type\":\"value\",\"value\":0.2}}}}}],\"toolbar\":{\"type\":\"object\",\"name\":\"Toolbar\",\"id\":\"p1211\",\"attributes\":{\"tools\":[{\"type\":\"object\",\"name\":\"PanTool\",\"id\":\"p1224\"},{\"type\":\"object\",\"name\":\"WheelZoomTool\",\"id\":\"p1225\",\"attributes\":{\"renderers\":\"auto\"}},{\"type\":\"object\",\"name\":\"BoxZoomTool\",\"id\":\"p1226\",\"attributes\":{\"overlay\":{\"type\":\"object\",\"name\":\"BoxAnnotation\",\"id\":\"p1227\",\"attributes\":{\"syncable\":false,\"level\":\"overlay\",\"visible\":false,\"left\":{\"type\":\"number\",\"value\":\"nan\"},\"right\":{\"type\":\"number\",\"value\":\"nan\"},\"top\":{\"type\":\"number\",\"value\":\"nan\"},\"bottom\":{\"type\":\"number\",\"value\":\"nan\"},\"left_units\":\"canvas\",\"right_units\":\"canvas\",\"top_units\":\"canvas\",\"bottom_units\":\"canvas\",\"line_color\":\"black\",\"line_alpha\":1.0,\"line_width\":2,\"line_dash\":[4,4],\"fill_color\":\"lightgrey\",\"fill_alpha\":0.5}}}},{\"type\":\"object\",\"name\":\"SaveTool\",\"id\":\"p1232\"},{\"type\":\"object\",\"name\":\"ResetTool\",\"id\":\"p1233\"},{\"type\":\"object\",\"name\":\"HelpTool\",\"id\":\"p1234\"},{\"type\":\"object\",\"name\":\"HoverTool\",\"id\":\"p1235\",\"attributes\":{\"renderers\":\"auto\",\"tooltips\":[[\"page\",\"@{page}\"],[\"source\",\"@{source}\"],[\"content\",\"@{content}\"]]}}]}},\"left\":[{\"type\":\"object\",\"name\":\"LinearAxis\",\"id\":\"p1219\",\"attributes\":{\"visible\":false,\"ticker\":{\"type\":\"object\",\"name\":\"BasicTicker\",\"id\":\"p1220\",\"attributes\":{\"mantissas\":[1,2,5]}},\"formatter\":{\"type\":\"object\",\"name\":\"BasicTickFormatter\",\"id\":\"p1221\"},\"major_label_policy\":{\"type\":\"object\",\"name\":\"AllLabels\",\"id\":\"p1222\"}}}],\"below\":[{\"type\":\"object\",\"name\":\"LinearAxis\",\"id\":\"p1214\",\"attributes\":{\"visible\":false,\"ticker\":{\"type\":\"object\",\"name\":\"BasicTicker\",\"id\":\"p1215\",\"attributes\":{\"mantissas\":[1,2,5]}},\"formatter\":{\"type\":\"object\",\"name\":\"BasicTickFormatter\",\"id\":\"p1216\"},\"major_label_policy\":{\"type\":\"object\",\"name\":\"AllLabels\",\"id\":\"p1217\"}}}],\"center\":[{\"type\":\"object\",\"name\":\"Grid\",\"id\":\"p1218\",\"attributes\":{\"visible\":false,\"axis\":{\"id\":\"p1214\"}}},{\"type\":\"object\",\"name\":\"Grid\",\"id\":\"p1223\",\"attributes\":{\"visible\":false,\"dimension\":1,\"axis\":{\"id\":\"p1219\"}}}],\"background_fill_color\":\"white\"}}],\"defs\":[{\"type\":\"model\",\"name\":\"ReactiveHTML1\"},{\"type\":\"model\",\"name\":\"FlexBox1\",\"properties\":[{\"name\":\"align_content\",\"kind\":\"Any\",\"default\":\"flex-start\"},{\"name\":\"align_items\",\"kind\":\"Any\",\"default\":\"flex-start\"},{\"name\":\"flex_direction\",\"kind\":\"Any\",\"default\":\"row\"},{\"name\":\"flex_wrap\",\"kind\":\"Any\",\"default\":\"wrap\"},{\"name\":\"gap\",\"kind\":\"Any\",\"default\":\"\"},{\"name\":\"justify_content\",\"kind\":\"Any\",\"default\":\"flex-start\"}]},{\"type\":\"model\",\"name\":\"FloatPanel1\",\"properties\":[{\"name\":\"config\",\"kind\":\"Any\",\"default\":{\"type\":\"map\"}},{\"name\":\"contained\",\"kind\":\"Any\",\"default\":true},{\"name\":\"position\",\"kind\":\"Any\",\"default\":\"right-top\"},{\"name\":\"offsetx\",\"kind\":\"Any\",\"default\":null},{\"name\":\"offsety\",\"kind\":\"Any\",\"default\":null},{\"name\":\"theme\",\"kind\":\"Any\",\"default\":\"primary\"},{\"name\":\"status\",\"kind\":\"Any\",\"default\":\"normalized\"}]},{\"type\":\"model\",\"name\":\"GridStack1\",\"properties\":[{\"name\":\"mode\",\"kind\":\"Any\",\"default\":\"warn\"},{\"name\":\"ncols\",\"kind\":\"Any\",\"default\":null},{\"name\":\"nrows\",\"kind\":\"Any\",\"default\":null},{\"name\":\"allow_resize\",\"kind\":\"Any\",\"default\":true},{\"name\":\"allow_drag\",\"kind\":\"Any\",\"default\":true},{\"name\":\"state\",\"kind\":\"Any\",\"default\":[]}]},{\"type\":\"model\",\"name\":\"drag1\",\"properties\":[{\"name\":\"slider_width\",\"kind\":\"Any\",\"default\":5},{\"name\":\"slider_color\",\"kind\":\"Any\",\"default\":\"black\"},{\"name\":\"value\",\"kind\":\"Any\",\"default\":50}]},{\"type\":\"model\",\"name\":\"click1\",\"properties\":[{\"name\":\"terminal_output\",\"kind\":\"Any\",\"default\":\"\"},{\"name\":\"debug_name\",\"kind\":\"Any\",\"default\":\"\"},{\"name\":\"clears\",\"kind\":\"Any\",\"default\":0}]},{\"type\":\"model\",\"name\":\"FastWrapper1\",\"properties\":[{\"name\":\"object\",\"kind\":\"Any\",\"default\":null},{\"name\":\"style\",\"kind\":\"Any\",\"default\":null}]},{\"type\":\"model\",\"name\":\"NotificationAreaBase1\",\"properties\":[{\"name\":\"js_events\",\"kind\":\"Any\",\"default\":{\"type\":\"map\"}},{\"name\":\"position\",\"kind\":\"Any\",\"default\":\"bottom-right\"},{\"name\":\"_clear\",\"kind\":\"Any\",\"default\":0}]},{\"type\":\"model\",\"name\":\"NotificationArea1\",\"properties\":[{\"name\":\"js_events\",\"kind\":\"Any\",\"default\":{\"type\":\"map\"}},{\"name\":\"notifications\",\"kind\":\"Any\",\"default\":[]},{\"name\":\"position\",\"kind\":\"Any\",\"default\":\"bottom-right\"},{\"name\":\"_clear\",\"kind\":\"Any\",\"default\":0},{\"name\":\"types\",\"kind\":\"Any\",\"default\":[{\"type\":\"map\",\"entries\":[[\"type\",\"warning\"],[\"background\",\"#ffc107\"],[\"icon\",{\"type\":\"map\",\"entries\":[[\"className\",\"fas fa-exclamation-triangle\"],[\"tagName\",\"i\"],[\"color\",\"white\"]]}]]},{\"type\":\"map\",\"entries\":[[\"type\",\"info\"],[\"background\",\"#007bff\"],[\"icon\",{\"type\":\"map\",\"entries\":[[\"className\",\"fas fa-info-circle\"],[\"tagName\",\"i\"],[\"color\",\"white\"]]}]]}]}]},{\"type\":\"model\",\"name\":\"Notification\",\"properties\":[{\"name\":\"background\",\"kind\":\"Any\",\"default\":null},{\"name\":\"duration\",\"kind\":\"Any\",\"default\":3000},{\"name\":\"icon\",\"kind\":\"Any\",\"default\":null},{\"name\":\"message\",\"kind\":\"Any\",\"default\":\"\"},{\"name\":\"notification_type\",\"kind\":\"Any\",\"default\":null},{\"name\":\"_destroyed\",\"kind\":\"Any\",\"default\":false}]},{\"type\":\"model\",\"name\":\"TemplateActions1\",\"properties\":[{\"name\":\"open_modal\",\"kind\":\"Any\",\"default\":0},{\"name\":\"close_modal\",\"kind\":\"Any\",\"default\":0}]},{\"type\":\"model\",\"name\":\"BootstrapTemplateActions1\",\"properties\":[{\"name\":\"open_modal\",\"kind\":\"Any\",\"default\":0},{\"name\":\"close_modal\",\"kind\":\"Any\",\"default\":0}]},{\"type\":\"model\",\"name\":\"TemplateEditor1\",\"properties\":[{\"name\":\"layout\",\"kind\":\"Any\",\"default\":[]}]},{\"type\":\"model\",\"name\":\"MaterialTemplateActions1\",\"properties\":[{\"name\":\"open_modal\",\"kind\":\"Any\",\"default\":0},{\"name\":\"close_modal\",\"kind\":\"Any\",\"default\":0}]},{\"type\":\"model\",\"name\":\"copy_to_clipboard1\",\"properties\":[{\"name\":\"fill\",\"kind\":\"Any\",\"default\":\"none\"},{\"name\":\"value\",\"kind\":\"Any\",\"default\":null}]}]}};\n  const render_items = [{\"docid\":\"e1eea93c-fc39-4298-b9d5-b40eaa757735\",\"roots\":{\"p1203\":\"e7823315-d52f-42fa-af65-c9726e9d3647\"},\"root_ids\":[\"p1203\"]}];\n  void root.Bokeh.embed.embed_items_notebook(docs_json, render_items);\n  }\n  if (root.Bokeh !== undefined) {\n    embed_document(root);\n  } else {\n    let attempts = 0;\n    const timer = setInterval(function(root) {\n      if (root.Bokeh !== undefined) {\n        clearInterval(timer);\n        embed_document(root);\n      } else {\n        attempts++;\n        if (attempts > 100) {\n          clearInterval(timer);\n          console.log(\"Bokeh: ERROR: Unable to run BokehJS code because BokehJS library is missing\");\n        }\n      }\n    }, 10, root)\n  }\n})(window);",
      "application/vnd.bokehjs_exec.v0+json": ""
     },
     "metadata": {
      "application/vnd.bokehjs_exec.v0+json": {
       "id": "p1203"
      }
     },
     "output_type": "display_data"
    }
   ],
   "source": [
    "\n",
    "p = umap.plot.interactive(umap_embedding_obj,hover_data=hover_data)\n",
    "\n",
    "umap.plot.show(p)"
   ]
  }
 ],
 "metadata": {
  "kernelspec": {
   "display_name": ".local_llamma3",
   "language": "python",
   "name": "python3"
  },
  "language_info": {
   "codemirror_mode": {
    "name": "ipython",
    "version": 3
   },
   "file_extension": ".py",
   "mimetype": "text/x-python",
   "name": "python",
   "nbconvert_exporter": "python",
   "pygments_lexer": "ipython3",
   "version": "3.12.3"
  }
 },
 "nbformat": 4,
 "nbformat_minor": 2
}
